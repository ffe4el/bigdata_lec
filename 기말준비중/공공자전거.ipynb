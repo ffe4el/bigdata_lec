{
 "cells": [
  {
   "cell_type": "code",
   "execution_count": 2,
   "metadata": {
    "collapsed": true
   },
   "outputs": [],
   "source": [
    "import pandas as pd\n",
    "import numpy as np\n",
    "import requests"
   ]
  },
  {
   "cell_type": "code",
   "execution_count": 3,
   "outputs": [
    {
     "name": "stdout",
     "output_type": "stream",
     "text": [
      "b'<?xml version=\"1.0\" encoding=\"UTF-8\"?>\\n<CardSubwayStatsNew>\\n<list_total_count>593</list_total_count>\\n<RESULT>\\n<CODE>INFO-000</CODE>\\n<MESSAGE>\\xec\\xa0\\x95\\xec\\x83\\x81 \\xec\\xb2\\x98\\xeb\\xa6\\xac\\xeb\\x90\\x98\\xec\\x97\\x88\\xec\\x8a\\xb5\\xeb\\x8b\\x88\\xeb\\x8b\\xa4</MESSAGE>\\n</RESULT>\\n<row>\\n<USE_DT>20220301</USE_DT>\\n<LINE_NUM>1\\xed\\x98\\xb8\\xec\\x84\\xa0</LINE_NUM>\\n<SUB_STA_NM>\\xec\\x84\\x9c\\xec\\x9a\\xb8\\xec\\x97\\xad</SUB_STA_NM>\\n<RIDE_PASGR_NUM>20994</RIDE_PASGR_NUM>\\n<ALIGHT_PASGR_NUM>19468</ALIGHT_PASGR_NUM>\\n<WORK_DT>20220304</WORK_DT>\\n</row>\\n<row>\\n<USE_DT>20220301</USE_DT>\\n<LINE_NUM>1\\xed\\x98\\xb8\\xec\\x84\\xa0</LINE_NUM>\\n<SUB_STA_NM>\\xec\\x8b\\x9c\\xec\\xb2\\xad</SUB_STA_NM>\\n<RIDE_PASGR_NUM>12439</RIDE_PASGR_NUM>\\n<ALIGHT_PASGR_NUM>12379</ALIGHT_PASGR_NUM>\\n<WORK_DT>20220304</WORK_DT>\\n</row>\\n<row>\\n<USE_DT>20220301</USE_DT>\\n<LINE_NUM>1\\xed\\x98\\xb8\\xec\\x84\\xa0</LINE_NUM>\\n<SUB_STA_NM>\\xec\\xa2\\x85\\xea\\xb0\\x81</SUB_STA_NM>\\n<RIDE_PASGR_NUM>15750</RIDE_PASGR_NUM>\\n<ALIGHT_PASGR_NUM>13544</ALIGHT_PASGR_NUM>\\n<WORK_DT>20220304</WORK_DT>\\n</row>\\n<row>\\n<USE_DT>20220301</USE_DT>\\n<LINE_NUM>1\\xed\\x98\\xb8\\xec\\x84\\xa0</LINE_NUM>\\n<SUB_STA_NM>\\xec\\xa2\\x85\\xeb\\xa1\\x9c3\\xea\\xb0\\x80</SUB_STA_NM>\\n<RIDE_PASGR_NUM>16349</RIDE_PASGR_NUM>\\n<ALIGHT_PASGR_NUM>14533</ALIGHT_PASGR_NUM>\\n<WORK_DT>20220304</WORK_DT>\\n</row>\\n<row>\\n<USE_DT>20220301</USE_DT>\\n<LINE_NUM>1\\xed\\x98\\xb8\\xec\\x84\\xa0</LINE_NUM>\\n<SUB_STA_NM>\\xec\\xa2\\x85\\xeb\\xa1\\x9c5\\xea\\xb0\\x80</SUB_STA_NM>\\n<RIDE_PASGR_NUM>14036</RIDE_PASGR_NUM>\\n<ALIGHT_PASGR_NUM>13472</ALIGHT_PASGR_NUM>\\n<WORK_DT>20220304</WORK_DT>\\n</row>\\n</CardSubwayStatsNew>\\n'\n"
     ]
    }
   ],
   "source": [
    "url = 'http://openapi.seoul.go.kr:8088/sample/xml/CardSubwayStatsNew/1/5/20220301'\n",
    "\n",
    "response = requests.get(url)\n",
    "print(response.content)"
   ],
   "metadata": {
    "collapsed": false
   }
  }
 ],
 "metadata": {
  "kernelspec": {
   "display_name": "Python 3",
   "language": "python",
   "name": "python3"
  },
  "language_info": {
   "codemirror_mode": {
    "name": "ipython",
    "version": 2
   },
   "file_extension": ".py",
   "mimetype": "text/x-python",
   "name": "python",
   "nbconvert_exporter": "python",
   "pygments_lexer": "ipython2",
   "version": "2.7.6"
  }
 },
 "nbformat": 4,
 "nbformat_minor": 0
}
