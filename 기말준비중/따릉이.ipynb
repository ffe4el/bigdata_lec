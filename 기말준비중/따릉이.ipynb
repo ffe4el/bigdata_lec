{
 "cells": [
  {
   "cell_type": "code",
   "execution_count": 8,
   "outputs": [
    {
     "name": "stdout",
     "output_type": "stream",
     "text": [
      "b''\n"
     ]
    }
   ],
   "source": [
    "import pandas as pd\n",
    "import requests\n",
    "\n",
    "url = 'http://openapi.seoul.go.kr:8088/'\n",
    "params = {'key': '',\n",
    "          'type' : '',\n",
    "          'service' : '',\n",
    "          'start_index' : '',\n",
    "          'end_index' : '',\n",
    "          'rent_nm':'',\n",
    "        }\n",
    "\n",
    "key = \"4f764b4741636f643436416d796b4d\"\n",
    "type = 'json'\n",
    "service = 'tbCycleRentUseMonthInfo'\n",
    "start_index = '1'\n",
    "end_index = '6'\n",
    "\n",
    "\n",
    "params['key']=key\n",
    "params['type']=type\n",
    "params['service']=service\n",
    "params['start_index']=start_index\n",
    "params['end_index']=end_index\n",
    "params['rent_nm']=input('사용 년월 : ')\n",
    "\n",
    "response = requests.get(url, params=params)\n",
    "print(response.content)"
   ],
   "metadata": {
    "collapsed": false
   }
  },
  {
   "cell_type": "code",
   "execution_count": null,
   "outputs": [],
   "source": [
    "# from bs4 import BeautifulSoup\n",
    "# soup = BeautifulSoup(response.text, 'lxml-xml')\n",
    "# rows = soup.select('HeatWaveShelter > row')\n",
    "# for row in rows:\n",
    "#   print(row.year.text,\n",
    "#         row.restname.text,\n",
    "#         row.areaNm.text,\n",
    "#         row.creDttm.text,\n",
    "#         )"
   ],
   "metadata": {
    "collapsed": false
   }
  }
 ],
 "metadata": {
  "kernelspec": {
   "display_name": "Python 3",
   "language": "python",
   "name": "python3"
  },
  "language_info": {
   "codemirror_mode": {
    "name": "ipython",
    "version": 2
   },
   "file_extension": ".py",
   "mimetype": "text/x-python",
   "name": "python",
   "nbconvert_exporter": "python",
   "pygments_lexer": "ipython2",
   "version": "2.7.6"
  }
 },
 "nbformat": 4,
 "nbformat_minor": 0
}
