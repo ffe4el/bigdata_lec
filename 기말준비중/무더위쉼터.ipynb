{
 "cells": [
  {
   "cell_type": "code",
   "execution_count": 9,
   "metadata": {
    "collapsed": true
   },
   "outputs": [
    {
     "name": "stdout",
     "output_type": "stream",
     "text": [
      "b'<?xml version=\"1.0\" encoding=\"UTF-8\"?>\\n\\n<HeatWaveShelter>\\n  <head>\\n    <totalCount>3</totalCount>\\n    <numOfRows>10</numOfRows>\\n    <pageNo>1</pageNo>\\n    <type>XML</type>\\n    <RESULT>\\n      <resultCode>INFO-0</resultCode>\\n      <resultMsg>NOMAL SERVICE</resultMsg>\\n    </RESULT>\\n  </head>\\n  <row>\\n    <restSeqNo>77</restSeqNo>\\n    <year>2014</year>\\n    <areaCd>1111051000</areaCd>\\n    <equptype>001</equptype>\\n    <restname>6.25\\xec\\xb0\\xb8\\xec\\xa0\\x84\\xec\\x9c\\xa0\\xea\\xb3\\xb5\\xec\\x9e\\x90\\xea\\xb2\\xbd\\xeb\\xa1\\x9c\\xeb\\x8b\\xb9</restname>\\n    <restaddr>\\xec\\x84\\x9c\\xec\\x9a\\xb8\\xed\\x8a\\xb9\\xeb\\xb3\\x84\\xec\\x8b\\x9c \\xec\\xa2\\x85\\xeb\\xa1\\x9c\\xea\\xb5\\xac \\xed\\x95\\x84\\xec\\x9a\\xb4\\xeb\\x8c\\x80\\xeb\\xa1\\x9c 88 , \\xec\\xa7\\x80\\xed\\x95\\x981\\xec\\xb8\\xb5 6.25\\xec\\xb0\\xb8\\xec\\xa0\\x84\\xec\\x9c\\xa0\\xea\\xb3\\xb5\\xec\\x9e\\x90\\xea\\xb2\\xbd\\xeb\\xa1\\x9c\\xeb\\x8b\\xb9 (\\xec\\x8b\\xa0\\xea\\xb5\\x90\\xeb\\x8f\\x99)</restaddr>\\n    <creDttm>2014-05-21 13:43:33</creDttm>\\n    <updtDttm></updtDttm>\\n    <useYn>Y</useYn>\\n    <areaNm>\\xec\\x84\\x9c\\xec\\x9a\\xb8\\xed\\x8a\\xb9\\xeb\\xb3\\x84\\xec\\x8b\\x9c \\xec\\xa2\\x85\\xeb\\xa1\\x9c\\xea\\xb5\\xac \\xec\\xb2\\xad\\xec\\x9a\\xb4\\xeb\\x8f\\x99</areaNm>\\n    <operBeginDe></operBeginDe>\\n    <operEndDe></operEndDe>\\n    <ar>75</ar>\\n    <usePsblNmpr>100</usePsblNmpr>\\n    <colrHoldElefn>2</colrHoldElefn>\\n    <colrHoldArcndtn>2</colrHoldArcndtn>\\n    <chckMatterNightOpnAt>N</chckMatterNightOpnAt>\\n    <chckMatterWkendHdayOpnAt>Y</chckMatterWkendHdayOpnAt>\\n    <chckMatterStayngPsblAt></chckMatterStayngPsblAt>\\n    <rm></rm>\\n    <dtlAdres>6-26 \\xec\\xa7\\x80\\xed\\x95\\x981\\xec\\xb8\\xb5 6.25\\xec\\xb0\\xb8\\xec\\xa0\\x84\\xec\\x9c\\xa0\\xea\\xb3\\xb5\\xec\\x9e\\x90\\xea\\xb2\\xbd\\xeb\\xa1\\x9c\\xeb\\x8b\\xb9</dtlAdres>\\n    <mngdpt_cd></mngdpt_cd>\\n    <mngdptCd></mngdptCd>\\n    <xcord></xcord>\\n    <ycord></ycord>\\n    <la></la>\\n    <lo></lo>\\n  </row>\\n  <row>\\n    <restSeqNo>78</restSeqNo>\\n    <year>2014</year>\\n    <areaCd>1111051000</areaCd>\\n    <equptype>001</equptype>\\n    <restname>\\xec\\x9d\\xb8\\xec\\x99\\x95\\xec\\x82\\xb0\\xec\\xa0\\x95\\xea\\xb2\\xbd\\xeb\\xa1\\x9c\\xeb\\x8b\\xb9</restname>\\n    <restaddr>\\xec\\x84\\x9c\\xec\\x9a\\xb8\\xed\\x8a\\xb9\\xeb\\xb3\\x84\\xec\\x8b\\x9c \\xec\\xa2\\x85\\xeb\\xa1\\x9c\\xea\\xb5\\xac \\xed\\x95\\x84\\xec\\x9a\\xb4\\xeb\\x8c\\x80\\xeb\\xa1\\x9c 86 , 2\\xec\\xb8\\xb5 \\xec\\x9d\\xb8\\xec\\x99\\x95\\xec\\x82\\xb0\\xec\\xa0\\x95\\xea\\xb2\\xbd\\xeb\\xa1\\x9c\\xeb\\x8b\\xb9 (\\xec\\x8b\\xa0\\xea\\xb5\\x90\\xeb\\x8f\\x99)</restaddr>\\n    <creDttm>2014-05-29 07:54:32</creDttm>\\n    <updtDttm></updtDttm>\\n    <useYn>Y</useYn>\\n    <areaNm>\\xec\\x84\\x9c\\xec\\x9a\\xb8\\xed\\x8a\\xb9\\xeb\\xb3\\x84\\xec\\x8b\\x9c \\xec\\xa2\\x85\\xeb\\xa1\\x9c\\xea\\xb5\\xac \\xec\\xb2\\xad\\xec\\x9a\\xb4\\xeb\\x8f\\x99</areaNm>\\n    <operBeginDe></operBeginDe>\\n    <operEndDe></operEndDe>\\n    <ar>112</ar>\\n    <usePsblNmpr>10</usePsblNmpr>\\n    <colrHoldElefn>2</colrHoldElefn>\\n    <colrHoldArcndtn>2</colrHoldArcndtn>\\n    <chckMatterNightOpnAt>N</chckMatterNightOpnAt>\\n    <chckMatterWkendHdayOpnAt>Y</chckMatterWkendHdayOpnAt>\\n    <chckMatterStayngPsblAt></chckMatterStayngPsblAt>\\n    <rm></rm>\\n    <dtlAdres>6-27 2\\xec\\xb8\\xb5 \\xec\\x9d\\xb8\\xec\\x99\\x95\\xec\\x82\\xb0\\xec\\xa0\\x95\\xea\\xb2\\xbd\\xeb\\xa1\\x9c\\xeb\\x8b\\xb9</dtlAdres>\\n    <mngdpt_cd></mngdpt_cd>\\n    <mngdptCd></mngdptCd>\\n    <xcord></xcord>\\n    <ycord></ycord>\\n    <la></la>\\n    <lo></lo>\\n  </row>\\n  <row>\\n    <restSeqNo>1</restSeqNo>\\n    <year>2014</year>\\n    <areaCd>1111051000</areaCd>\\n    <equptype>001</equptype>\\n    <restname>\\xec\\xb2\\xad\\xec\\x9a\\xb4\\xea\\xb2\\xbd\\xeb\\xa1\\x9c\\xeb\\x8b\\xb9</restname>\\n    <restaddr>\\xec\\x84\\x9c\\xec\\x9a\\xb8\\xed\\x8a\\xb9\\xeb\\xb3\\x84\\xec\\x8b\\x9c \\xec\\xa2\\x85\\xeb\\xa1\\x9c\\xea\\xb5\\xac \\xed\\x95\\x84\\xec\\x9a\\xb4\\xeb\\x8c\\x80\\xeb\\xa1\\x9c 86 , \\xec\\xb2\\xad\\xec\\x9a\\xb4\\xea\\xb2\\xbd\\xeb\\xa1\\x9c\\xeb\\x8b\\xb9 (\\xec\\x8b\\xa0\\xea\\xb5\\x90\\xeb\\x8f\\x99)</restaddr>\\n    <creDttm>2014-05-02 11:22:39</creDttm>\\n    <updtDttm></updtDttm>\\n    <useYn>Y</useYn>\\n    <areaNm>\\xec\\x84\\x9c\\xec\\x9a\\xb8\\xed\\x8a\\xb9\\xeb\\xb3\\x84\\xec\\x8b\\x9c \\xec\\xa2\\x85\\xeb\\xa1\\x9c\\xea\\xb5\\xac \\xec\\xb2\\xad\\xec\\x9a\\xb4\\xeb\\x8f\\x99</areaNm>\\n    <operBeginDe></operBeginDe>\\n    <operEndDe></operEndDe>\\n    <ar>112</ar>\\n    <usePsblNmpr>30</usePsblNmpr>\\n    <colrHoldElefn>2</colrHoldElefn>\\n    <colrHoldArcndtn>1</colrHoldArcndtn>\\n    <chckMatterNightOpnAt>N</chckMatterNightOpnAt>\\n    <chckMatterWkendHdayOpnAt>Y</chckMatterWkendHdayOpnAt>\\n    <chckMatterStayngPsblAt></chckMatterStayngPsblAt>\\n    <rm></rm>\\n    <dtlAdres>6-27 \\xec\\xb2\\xad\\xec\\x9a\\xb4\\xea\\xb2\\xbd\\xeb\\xa1\\x9c\\xeb\\x8b\\xb9</dtlAdres>\\n    <mngdpt_cd></mngdpt_cd>\\n    <mngdptCd></mngdptCd>\\n    <xcord></xcord>\\n    <ycord></ycord>\\n    <la></la>\\n    <lo></lo>\\n  </row>\\n</HeatWaveShelter>\\n\\n'\n"
     ]
    }
   ],
   "source": [
    "import requests\n",
    "import pandas as pd\n",
    "\n",
    "url = 'http://apis.data.go.kr/1741000/HeatWaveShelter2/getHeatWaveShelterList2'\n",
    "\n",
    "params = {'ServiceKey': '',\n",
    "          'pageNo' : '',\n",
    "          'numOfRows' : '',\n",
    "          'type' : '',\n",
    "          'year' : '',\n",
    "          'equptype' : '',\n",
    "          'areaCd' : '',\n",
    "        }\n",
    "\n",
    "mykey = \"TEo5fURVg6O3ChvfXOmzkr0IXbTl0d4VkfIj3JVTz0ctJ+NS0IjPHxLXlijxDlubeXvzd3ZlGksTn/HhACp8gA==\"\n",
    "pageno = '1'\n",
    "numofrows='10'\n",
    "\n",
    "params['ServiceKey']=mykey\n",
    "params['pageNo']=pageno\n",
    "params['numOfRows']=numofrows\n",
    "params['type']=input('문서타입 : ')\n",
    "params['year']=input('연도 : ')\n",
    "params['areaCd']=input('지역코드 : (예: 1111051000)')\n",
    "params['equptype']=input('001:노인시설 002:복지회관 003:마을회관 004:보건소 005:주민센터 006:면동사모소 007:종교시설 008:금융기관 009:정자 010:공원 099:기타')\n",
    "\n",
    "response = requests.get(url, params=params)\n",
    "print(response.content)"
   ]
  },
  {
   "cell_type": "code",
   "execution_count": 10,
   "outputs": [
    {
     "name": "stdout",
     "output_type": "stream",
     "text": [
      "2014 6.25참전유공자경로당 서울특별시 종로구 청운동 2014-05-21 13:43:33\n",
      "2014 인왕산정경로당 서울특별시 종로구 청운동 2014-05-29 07:54:32\n",
      "2014 청운경로당 서울특별시 종로구 청운동 2014-05-02 11:22:39\n"
     ]
    }
   ],
   "source": [
    "from bs4 import BeautifulSoup\n",
    "soup = BeautifulSoup(response.text, 'lxml-xml')\n",
    "rows = soup.select('HeatWaveShelter > row')\n",
    "for row in rows:\n",
    "  print(row.year.text,\n",
    "        row.restname.text,\n",
    "        row.areaNm.text,\n",
    "        row.creDttm.text,\n",
    "        )"
   ],
   "metadata": {
    "collapsed": false
   }
  },
  {
   "cell_type": "code",
   "execution_count": 11,
   "outputs": [],
   "source": [
    "def parse():\n",
    "  try:\n",
    "    year = row.find('year').get_text()\n",
    "    restname = row.find('restname').get_text()\n",
    "    areaNm = row.find('areaNm').get_text()\n",
    "    creDttm = row.find('creDttm').get_text()\n",
    "\n",
    "    return {\n",
    "        \"년도\": year,\n",
    "        \"쉼터 이름\": restname,\n",
    "        \"지역\" : areaNm,\n",
    "        \"생성 일시\" : creDttm,\n",
    "      }\n",
    "  except AttributeError as e:\n",
    "    return {\n",
    "        \"년도\": None,\n",
    "        \"쉼터 이름\": None,\n",
    "        \"지역\" : None,\n",
    "        \"생성 일시\" : None,\n",
    "\n",
    "    }"
   ],
   "metadata": {
    "collapsed": false
   }
  },
  {
   "cell_type": "code",
   "execution_count": 12,
   "outputs": [
    {
     "data": {
      "text/plain": "     년도         쉼터 이름             지역                생성 일시\n0  2014  6.25참전유공자경로당  서울특별시 종로구 청운동  2014-05-21 13:43:33\n1  2014       인왕산정경로당  서울특별시 종로구 청운동  2014-05-29 07:54:32\n2  2014         청운경로당  서울특별시 종로구 청운동  2014-05-02 11:22:39",
      "text/html": "<div>\n<style scoped>\n    .dataframe tbody tr th:only-of-type {\n        vertical-align: middle;\n    }\n\n    .dataframe tbody tr th {\n        vertical-align: top;\n    }\n\n    .dataframe thead th {\n        text-align: right;\n    }\n</style>\n<table border=\"1\" class=\"dataframe\">\n  <thead>\n    <tr style=\"text-align: right;\">\n      <th></th>\n      <th>년도</th>\n      <th>쉼터 이름</th>\n      <th>지역</th>\n      <th>생성 일시</th>\n    </tr>\n  </thead>\n  <tbody>\n    <tr>\n      <th>0</th>\n      <td>2014</td>\n      <td>6.25참전유공자경로당</td>\n      <td>서울특별시 종로구 청운동</td>\n      <td>2014-05-21 13:43:33</td>\n    </tr>\n    <tr>\n      <th>1</th>\n      <td>2014</td>\n      <td>인왕산정경로당</td>\n      <td>서울특별시 종로구 청운동</td>\n      <td>2014-05-29 07:54:32</td>\n    </tr>\n    <tr>\n      <th>2</th>\n      <td>2014</td>\n      <td>청운경로당</td>\n      <td>서울특별시 종로구 청운동</td>\n      <td>2014-05-02 11:22:39</td>\n    </tr>\n  </tbody>\n</table>\n</div>"
     },
     "execution_count": 12,
     "metadata": {},
     "output_type": "execute_result"
    }
   ],
   "source": [
    "row1 = []\n",
    "for row in rows:\n",
    "  row1.append(parse())\n",
    "\n",
    "df = pd.DataFrame(row1)\n",
    "df"
   ],
   "metadata": {
    "collapsed": false
   }
  }
 ],
 "metadata": {
  "kernelspec": {
   "display_name": "Python 3",
   "language": "python",
   "name": "python3"
  },
  "language_info": {
   "codemirror_mode": {
    "name": "ipython",
    "version": 2
   },
   "file_extension": ".py",
   "mimetype": "text/x-python",
   "name": "python",
   "nbconvert_exporter": "python",
   "pygments_lexer": "ipython2",
   "version": "2.7.6"
  }
 },
 "nbformat": 4,
 "nbformat_minor": 0
}
