{
 "cells": [
  {
   "cell_type": "code",
   "execution_count": 2,
   "metadata": {
    "collapsed": true
   },
   "outputs": [],
   "source": [
    "import os\n",
    "import sys\n",
    "import urllib.request\n",
    "import datetime\n",
    "import time\n",
    "import json\n",
    "import pandas as pd"
   ]
  },
  {
   "cell_type": "code",
   "execution_count": 3,
   "outputs": [],
   "source": [
    "# [code1] url 접속을 요청하고 응답을 받아서 반환\n",
    "def getRequestUrl(url):\n",
    "    req = urllib.request.Request(url)  #매개변수로 받은 url에 대한 요청을 보낼 객체를 생성\n",
    "    try:\n",
    "        response = urllib.request.urlopen(req)  #요청 객체를 보내서 받은 응답 데이터를 response 객체에 저장\n",
    "\n",
    "        #response 객체에 저장된 코드를 확인. 코드가 200이면 요청을 정상 처리한 것이므로 성공.\n",
    "        # 메시지와 현재 시간을 파이썬 셸 창에 출력하고 응답을 utf-8 형식으로 디코딩하여 반환.\n",
    "        if response.getcode() == 200:\n",
    "            print(\"[%s] Url Request Success\" % datetime.datetime.now())\n",
    "            return response.read().decode('utf-8')\n",
    "    except Exception as e:\n",
    "        print(e)\n",
    "        print(\"[%s] Error for URL : %s\" % (datetime.datetime.now(), url))\n",
    "        return None"
   ],
   "metadata": {
    "collapsed": false
   }
  },
  {
   "cell_type": "code",
   "execution_count": 4,
   "outputs": [],
   "source": [
    "# [code2] 입국관광통계서비스의 오픈 API를 사용하여 데이터 요청 url을 만들고 [CODE 1]의 getRequestUrl(url)을 호출해서 받은 응답 데이터를 반환\n",
    "ServiceKey = \"TEo5fURVg6O3ChvfXOmzkr0IXbTl0d4VkfIj3JVTz0ctJ%2BNS0IjPHxLXlijxDlubeXvzd3ZlGksTn%2FHhACp8gA%3D%3D\"\n",
    "\n",
    "def getTourismStatsItem(ServiceKey, area, category):\n",
    "    service_url = \"http://openapi.tour.go.kr/openapi/service/EdrcntTourismStatsService/getEdrcntTourismStatsList\"\n",
    "\n",
    "    parameters = \"?_type=json&serviceKey=\" + ServiceKey #인증키\n",
    "    parameters += \"&Area=\" + area\n",
    "    parameters += \"&Category=\" + category\n",
    "\n",
    "    url = service_url + parameters\n",
    "    print(url)   #액세스 거부 여부 확인용 출력\n",
    "    retData = getRequestUrl(url) #[CODE 1]\n",
    "\n",
    "    if (retData == None):\n",
    "        return None\n",
    "    else:\n",
    "        return json.loads(retData)\n"
   ],
   "metadata": {
    "collapsed": false
   }
  },
  {
   "cell_type": "code",
   "execution_count": 5,
   "outputs": [],
   "source": [
    "def getTourismStatsService(area, category):\n",
    "    jsonResult = []\n",
    "    result = []\n",
    "    jsonData = getTourismStatsItem(ServiceKey, area, category) #[CODE 2]\n",
    "    if (jsonData['response']['header']['resultMsg'] == 'OK'):\n",
    "        area = jsonData['response']['body']['items']['item']['AREA'] #지역코드\n",
    "        sno = jsonData['response']['body']['items']['item']['SNO'] #SNO는 숙박업체 고유번호\n",
    "        category = jsonData['response']['body']['items']['item']['CATEGORY'] #숙박업체종류\n",
    "        address1 = jsonData['response']['body']['items']['item']['ADDRESS1'] #숙박업체 주소\n",
    "        address2 = jsonData['response']['body']['items']['item']['ADDRESS2'] #숙박업체 상세주소\n",
    "        tel = jsonData['response']['body']['items']['item']['TEL'] #숙박업체 전화번호\n",
    "        name = jsonData['response']['body']['items']['item']['NAME'] #숙박업체 이름\n",
    "        jsonResult.append({'name' : name,'area': area, 'address1': address1,'address2': address2, 'category': category, 'sno': sno, 'tel': tel})\n",
    "        result.append([sno,area,category, name, address1, address2,tel])\n",
    "    return (jsonResult, result, name)"
   ],
   "metadata": {
    "collapsed": false
   }
  },
  {
   "cell_type": "code",
   "execution_count": 6,
   "outputs": [
    {
     "name": "stdout",
     "output_type": "stream",
     "text": [
      "<< 전라북도 관광지 숙박 위치 정보 >>\n"
     ]
    },
    {
     "ename": "TypeError",
     "evalue": "can only concatenate str (not \"int\") to str",
     "output_type": "error",
     "traceback": [
      "\u001B[0;31m---------------------------------------------------------------------------\u001B[0m",
      "\u001B[0;31mTypeError\u001B[0m                                 Traceback (most recent call last)",
      "\u001B[0;32m/var/folders/js/792bsrvx24lcg4nrdgy7k5br0000gn/T/ipykernel_31100/56667721.py\u001B[0m in \u001B[0;36m<module>\u001B[0;34m\u001B[0m\n\u001B[1;32m      6\u001B[0m \u001B[0mcategory\u001B[0m \u001B[0;34m=\u001B[0m\u001B[0mint\u001B[0m\u001B[0;34m(\u001B[0m\u001B[0minput\u001B[0m\u001B[0;34m(\u001B[0m\u001B[0;34m'숙박시설분류(01-호텔 02-굿스테이 03-리조트/콘도 04-모텔 05-팬션/민박 06-유스호스텔/수련원 07-한옥) : '\u001B[0m\u001B[0;34m)\u001B[0m\u001B[0;34m)\u001B[0m\u001B[0;34m\u001B[0m\u001B[0;34m\u001B[0m\u001B[0m\n\u001B[1;32m      7\u001B[0m \u001B[0;34m\u001B[0m\u001B[0m\n\u001B[0;32m----> 8\u001B[0;31m \u001B[0mjsonResult\u001B[0m\u001B[0;34m,\u001B[0m \u001B[0mresult\u001B[0m\u001B[0;34m,\u001B[0m \u001B[0mname\u001B[0m \u001B[0;34m=\u001B[0m \u001B[0mgetTourismStatsService\u001B[0m\u001B[0;34m(\u001B[0m\u001B[0marea\u001B[0m\u001B[0;34m,\u001B[0m\u001B[0mcategory\u001B[0m\u001B[0;34m)\u001B[0m \u001B[0;31m#[CODE 3]\u001B[0m\u001B[0;34m\u001B[0m\u001B[0;34m\u001B[0m\u001B[0m\n\u001B[0m\u001B[1;32m      9\u001B[0m \u001B[0;34m\u001B[0m\u001B[0m\n\u001B[1;32m     10\u001B[0m \u001B[0;32mif\u001B[0m \u001B[0;34m(\u001B[0m\u001B[0mname\u001B[0m\u001B[0;34m==\u001B[0m\u001B[0;34m''\u001B[0m\u001B[0;34m)\u001B[0m \u001B[0;34m:\u001B[0m \u001B[0;31m#URL 요청은 성공하였지만, 데이터 제공이 안된 경우\u001B[0m\u001B[0;34m\u001B[0m\u001B[0;34m\u001B[0m\u001B[0m\n",
      "\u001B[0;32m/var/folders/js/792bsrvx24lcg4nrdgy7k5br0000gn/T/ipykernel_31100/72099910.py\u001B[0m in \u001B[0;36mgetTourismStatsService\u001B[0;34m(area, category)\u001B[0m\n\u001B[1;32m      2\u001B[0m     \u001B[0mjsonResult\u001B[0m \u001B[0;34m=\u001B[0m \u001B[0;34m[\u001B[0m\u001B[0;34m]\u001B[0m\u001B[0;34m\u001B[0m\u001B[0;34m\u001B[0m\u001B[0m\n\u001B[1;32m      3\u001B[0m     \u001B[0mresult\u001B[0m \u001B[0;34m=\u001B[0m \u001B[0;34m[\u001B[0m\u001B[0;34m]\u001B[0m\u001B[0;34m\u001B[0m\u001B[0;34m\u001B[0m\u001B[0m\n\u001B[0;32m----> 4\u001B[0;31m     \u001B[0mjsonData\u001B[0m \u001B[0;34m=\u001B[0m \u001B[0mgetTourismStatsItem\u001B[0m\u001B[0;34m(\u001B[0m\u001B[0mServiceKey\u001B[0m\u001B[0;34m,\u001B[0m \u001B[0marea\u001B[0m\u001B[0;34m,\u001B[0m \u001B[0mcategory\u001B[0m\u001B[0;34m)\u001B[0m \u001B[0;31m#[CODE 2]\u001B[0m\u001B[0;34m\u001B[0m\u001B[0;34m\u001B[0m\u001B[0m\n\u001B[0m\u001B[1;32m      5\u001B[0m     \u001B[0;32mif\u001B[0m \u001B[0;34m(\u001B[0m\u001B[0mjsonData\u001B[0m\u001B[0;34m[\u001B[0m\u001B[0;34m'response'\u001B[0m\u001B[0;34m]\u001B[0m\u001B[0;34m[\u001B[0m\u001B[0;34m'header'\u001B[0m\u001B[0;34m]\u001B[0m\u001B[0;34m[\u001B[0m\u001B[0;34m'resultMsg'\u001B[0m\u001B[0;34m]\u001B[0m \u001B[0;34m==\u001B[0m \u001B[0;34m'OK'\u001B[0m\u001B[0;34m)\u001B[0m\u001B[0;34m:\u001B[0m\u001B[0;34m\u001B[0m\u001B[0;34m\u001B[0m\u001B[0m\n\u001B[1;32m      6\u001B[0m         \u001B[0marea\u001B[0m \u001B[0;34m=\u001B[0m \u001B[0mjsonData\u001B[0m\u001B[0;34m[\u001B[0m\u001B[0;34m'response'\u001B[0m\u001B[0;34m]\u001B[0m\u001B[0;34m[\u001B[0m\u001B[0;34m'body'\u001B[0m\u001B[0;34m]\u001B[0m\u001B[0;34m[\u001B[0m\u001B[0;34m'items'\u001B[0m\u001B[0;34m]\u001B[0m\u001B[0;34m[\u001B[0m\u001B[0;34m'item'\u001B[0m\u001B[0;34m]\u001B[0m\u001B[0;34m[\u001B[0m\u001B[0;34m'AREA'\u001B[0m\u001B[0;34m]\u001B[0m \u001B[0;31m#지역코드\u001B[0m\u001B[0;34m\u001B[0m\u001B[0;34m\u001B[0m\u001B[0m\n",
      "\u001B[0;32m/var/folders/js/792bsrvx24lcg4nrdgy7k5br0000gn/T/ipykernel_31100/919929456.py\u001B[0m in \u001B[0;36mgetTourismStatsItem\u001B[0;34m(ServiceKey, area, category)\u001B[0m\n\u001B[1;32m      7\u001B[0m     \u001B[0mparameters\u001B[0m \u001B[0;34m=\u001B[0m \u001B[0;34m\"?_type=json&serviceKey=\"\u001B[0m \u001B[0;34m+\u001B[0m \u001B[0mServiceKey\u001B[0m \u001B[0;31m#인증키\u001B[0m\u001B[0;34m\u001B[0m\u001B[0;34m\u001B[0m\u001B[0m\n\u001B[1;32m      8\u001B[0m     \u001B[0mparameters\u001B[0m \u001B[0;34m+=\u001B[0m \u001B[0;34m\"&Area=\"\u001B[0m \u001B[0;34m+\u001B[0m \u001B[0marea\u001B[0m\u001B[0;34m\u001B[0m\u001B[0;34m\u001B[0m\u001B[0m\n\u001B[0;32m----> 9\u001B[0;31m     \u001B[0mparameters\u001B[0m \u001B[0;34m+=\u001B[0m \u001B[0;34m\"&Category=\"\u001B[0m \u001B[0;34m+\u001B[0m \u001B[0mcategory\u001B[0m\u001B[0;34m\u001B[0m\u001B[0;34m\u001B[0m\u001B[0m\n\u001B[0m\u001B[1;32m     10\u001B[0m \u001B[0;34m\u001B[0m\u001B[0m\n\u001B[1;32m     11\u001B[0m     \u001B[0murl\u001B[0m \u001B[0;34m=\u001B[0m \u001B[0mservice_url\u001B[0m \u001B[0;34m+\u001B[0m \u001B[0mparameters\u001B[0m\u001B[0;34m\u001B[0m\u001B[0;34m\u001B[0m\u001B[0m\n",
      "\u001B[0;31mTypeError\u001B[0m: can only concatenate str (not \"int\") to str"
     ]
    }
   ],
   "source": [
    "jsonResult = []\n",
    "result = []\n",
    "\n",
    "print(\"<< 전라북도 관광지 숙박 위치 정보 >>\")\n",
    "area = input('지역코드(01-고창군 02-군산시 03-김제시 04-남원시 05-무주군 06-부안군 07-순창군 08-완주군 09-익산시 10-임실군 11-장수군 12-전주시 13-진안군 14-진안군) : ')\n",
    "category =int(input('숙박시설분류(01-호텔 02-굿스테이 03-리조트/콘도 04-모텔 05-팬션/민박 06-유스호스텔/수련원 07-한옥) : '))\n",
    "\n",
    "jsonResult, result, name = getTourismStatsService(area, category) #[CODE 3]\n",
    "\n",
    "if (name=='') : #URL 요청은 성공하였지만, 데이터 제공이 안된 경우\n",
    "        print('데이터가 전달되지 않았습니다. 공공데이터포털의 서비스 상태를 확인하기 바랍니다.')\n",
    "else:\n",
    "        #파일저장 : csv 파일\n",
    "        columns = [\"고유번호\",\"지역코드\",'숙박종류',\"이름\", \"주소\", \"상세주소\", '전화번호']\n",
    "        result_df = pd.DataFrame(result, columns = columns)\n",
    "        result_df.to_csv(f'./{area}_{category}.csv', index=False, encoding='cp949')"
   ],
   "metadata": {
    "collapsed": false
   }
  }
 ],
 "metadata": {
  "kernelspec": {
   "display_name": "Python 3",
   "language": "python",
   "name": "python3"
  },
  "language_info": {
   "codemirror_mode": {
    "name": "ipython",
    "version": 2
   },
   "file_extension": ".py",
   "mimetype": "text/x-python",
   "name": "python",
   "nbconvert_exporter": "python",
   "pygments_lexer": "ipython2",
   "version": "2.7.6"
  }
 },
 "nbformat": 4,
 "nbformat_minor": 0
}
