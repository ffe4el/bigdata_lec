{
 "cells": [
  {
   "cell_type": "code",
   "execution_count": 7,
   "metadata": {
    "collapsed": true
   },
   "outputs": [],
   "source": [
    "import os\n",
    "import sys\n",
    "import urllib.request\n",
    "import datetime\n",
    "import time\n",
    "import json\n",
    "import pandas as pd\n",
    "import xmltodict"
   ]
  },
  {
   "cell_type": "markdown",
   "source": [
    "json형태로 받아서 데이터프레임(df)만들기\n",
    "+) 함수이름은 수업시간에 했던 자료와 동일한 이름으로 사용"
   ],
   "metadata": {
    "collapsed": false
   }
  },
  {
   "cell_type": "code",
   "execution_count": 8,
   "outputs": [],
   "source": [
    "# [code1] url 접속을 요청하고 응답을 받아서 반환\n",
    "def getRequestUrl(url):\n",
    "    req = urllib.request.Request(url)  #매개변수로 받은 url에 대한 요청을 보낼 객체를 생성\n",
    "    try:\n",
    "        response = urllib.request.urlopen(req)  #요청 객체를 보내서 받은 응답 데이터를 response 객체에 저장\n",
    "\n",
    "        #response 객체에 저장된 코드를 확인. 코드가 200이면 요청을 정상 처리한 것이므로 성공.\n",
    "        # 메시지와 현재 시간을 파이썬 셸 창에 출력하고 응답을 utf-8 형식으로 디코딩하여 반환.\n",
    "        if response.getcode() == 200:\n",
    "            print(\"[%s] Url Request Success\" % datetime.datetime.now())\n",
    "            return response.read().decode('utf-8')\n",
    "    except Exception as e:\n",
    "        print(e)\n",
    "        print(\"[%s] Error for URL : %s\" % (datetime.datetime.now(), url))\n",
    "        return None"
   ],
   "metadata": {
    "collapsed": false
   }
  },
  {
   "cell_type": "code",
   "execution_count": 12,
   "outputs": [],
   "source": [
    "# [code2] 관광지숙박 정보의 오픈 API를 사용하여 데이터 요청 url을 만들고 [CODE 1]의 getRequestUrl(url)을 호출해서 받은 응답 데이터를 반환\n",
    "ServiceKey = \"TEo5fURVg6O3ChvfXOmzkr0IXbTl0d4VkfIj3JVTz0ctJ%2BNS0IjPHxLXlijxDlubeXvzd3ZlGksTn%2FHhACp8gA%3D%3D\"\n",
    "def getTourismStatsItem(area, category):\n",
    "    service_url = \"http://apis.data.go.kr/6450000/TouristAccoService/getTouristAcco\"\n",
    "\n",
    "    parameters = \"?ServiceKey=\" + ServiceKey #인증키\n",
    "    parameters += \"&Area=\" + area\n",
    "    parameters += \"&Category=\" + category\n",
    "\n",
    "    url = service_url + parameters\n",
    "    print(url)   #액세스 거부 여부 확인용 출력\n",
    "\n",
    "    retData = getRequestUrl(url) #[CODE 1]\n",
    "    # print(json.loads(retData))\n",
    "\n",
    "    #xml형식의 데이터를 Json파일로 바꿔서 리스트 형식으로 맞추기\n",
    "    retData = xmltodict.parse(retData)\n",
    "    retData = json.dumps(retData) #인코딩\n",
    "    print(retData)\n",
    "\n",
    "    if (retData == None):\n",
    "        return print(retData)\n",
    "    else:\n",
    "        return json.loads(retData)"
   ],
   "metadata": {
    "collapsed": false
   }
  },
  {
   "cell_type": "code",
   "execution_count": 13,
   "outputs": [],
   "source": [
    "def getTourismStatsService(area, category):\n",
    "    result = []\n",
    "    jsonData = getTourismStatsItem(area, category)\n",
    "    print(jsonData)\n",
    "    if (jsonData['response']['header']['resultMsg'] == 'OK'):\n",
    "        for i in range(len(jsonData['response']['body']['items']['item'])): #입력한 내용과 일치하는 숙박업소의 개수(len)만큼 리스트에 해당값을 넣는것을 반복\n",
    "            area = jsonData['response']['body']['items']['item'][i]['AREA'] #지역코드\n",
    "            sno = jsonData['response']['body']['items']['item'][i]['SNO'] #SNO는 숙박업체 고유번호\n",
    "            category = jsonData['response']['body']['items']['item'][i]['CATEGORY'] #숙박업체종류\n",
    "            address1 = jsonData['response']['body']['items']['item'][i]['ADDRESS1'] #숙박업체 주소\n",
    "            address2 = jsonData['response']['body']['items']['item'][i]['ADDRESS2'] #숙박업체 상세주소\n",
    "            tel = jsonData['response']['body']['items']['item'][i]['TEL'] #숙박업체 전화번호\n",
    "            name = jsonData['response']['body']['items']['item'][i]['NAME'] #숙박업체 이름\n",
    "            result.append([sno, area, category, name, address1, address2, tel]) #데이터프레임으로 바꿀 수 있게 리스트 형식으로 반환\n",
    "    return result"
   ],
   "metadata": {
    "collapsed": false
   }
  },
  {
   "cell_type": "code",
   "execution_count": 14,
   "outputs": [
    {
     "name": "stdout",
     "output_type": "stream",
     "text": [
      "<< 전라북도 관광지 숙박 위치 정보 >>\n",
      "http://apis.data.go.kr/6450000/TouristAccoService/getTouristAcco?ServiceKey=TEo5fURVg6O3ChvfXOmzkr0IXbTl0d4VkfIj3JVTz0ctJ%2BNS0IjPHxLXlijxDlubeXvzd3ZlGksTn%2FHhACp8gA%3D%3D&Area=12&Category=01\n",
      "[2022-12-07 14:37:57.909970] Url Request Success\n",
      "{\"response\": {\"header\": {\"resultCode\": \"200\", \"resultMsg\": \"OK\"}, \"body\": {\"totalCount\": \"5\", \"items\": {\"item\": [{\"IMG\": \"http://www.gojb.net/gwmsData/tourData/LODG_M/p1329724834083-1.jpg\", \"AREA\": \"12\", \"SNO\": \"1402\", \"CATEGORY\": \"01\", \"OVERVIEW\": \"\\ub974\\uc2dc\\uc5d8 \\ud638\\ud154\\uc740 \\uace0\\uac1d \\uc5ec\\ub7ec\\ubd84\\ub4e4\\uc5d0\\uac8c \\uc2e0\\ub8b0\\uac10\\uc744 \\uc8fc\\uae30 \\uc704\\ud558\\uc5ec \\uc804\\ub77c\\ubd81\\ub3c4\\uc640 \\uc804\\uc8fc\\uc2dc\\uc758 \\uc9c0\\uc815(\\uc804\\ub77c\\ubd81\\ub3c4 \\uacf5\\uace0 \\uc81c2011-791\\ud638)\\uc744 \\ubc1b\\uc558\\uc73c\\uba70,\\r\\n\\ud55c\\uad6d\\uad00\\uad11\\uacf5\\uc0ac \\uad7f\\uc2a4\\ud14c\\uc774 \\uc2b9\\uc778(KTO-Cer-11-0023)\\uc744 \\ubc1b\\uc558\\uc2b5\\ub2c8\\ub2e4.\", \"TEL\": \"063-0245-4848\", \"ADDRESS1\": \"\\uc804\\ubd81 \\uc804\\uc8fc\\uc2dc \\ub355\\uc9c4\\uad6c \\uc0b0\\uc815\\ub3d9\", \"NAME\": \"\\ub974\\uc2dc\\uc5d8 \\ud638\\ud154[\\uc6b0\\uc218\\uc219\\ubc15\\uc2dc\\uc124 \\uad7f\\uc2a4\\ud14c\\uc774]\", \"ADDRESS2\": \"860-4\"}, {\"IMG\": \"http://www.gojb.net/gwmsData/tourData/LODG_M/p1329712485276-1.jpg\", \"AREA\": \"12\", \"SNO\": \"1401\", \"CATEGORY\": \"01\", \"OVERVIEW\": \"\\ud55c\\uad6d\\uad00\\uad11\\uacf5\\uc0ac, \\ubb38\\ud654\\uccb4\\uc721\\uad00\\uad11\\ubd80 \\uc9c0\\uc815 \\uc6b0\\uc218\\ud638\\ud154 \\uc804\\uc8fc \\ub77c\\ub258\\ud638\\ud154\\uc785\\ub2c8\\ub2e4.\\r\\n\\ub77c\\ub258\\ub294 \\ud504\\ub791\\uc2a4\\uc5b4\\ub85c \\uadf8\\ub0a0\\ubc24, \\uc544\\ub984\\ub2e4\\uc6b4 \\ubc24\\uc744 \\uc758\\ubbf8\\ud558\\uba70 \\uc774 \\ud638\\ud154\\uc5d0 \\uc624\\uc2e0\\ubd84\\ub4e4\\uc5d0\\uac8c \\uc544\\ub984\\ub2e4\\uc6b4 \\ucd94\\uc5b5\\uacfc \\ud589\\ubcf5\\uc774 \\uae43\\ub4dc\\uc2dc\\uae38 \\uae30\\uc6d0\\ud55c\\ub2e4\\ub294 \\ub73b\\uc785\\ub2c8\\ub2e4.\", \"TEL\": \"063-0253-5708\", \"ADDRESS1\": \"\\uc804\\ubd81 \\uc804\\uc8fc\\uc2dc \\ub355\\uc9c4\\uad6c \\ub355\\uc9c4\\ub3d92\\uac00\", \"NAME\": \"\\ub77c\\ub258\\ud638\\ud154[\\uc6b0\\uc218\\uc219\\ubc15\\uc2dc\\uc124 \\uad7f\\uc2a4\\ud14c\\uc774]\", \"ADDRESS2\": \"189-12\"}, {\"IMG\": \"http://www.gojb.net/gwmsData/tourData/LODG_M/p1332131756558-1.jpg\", \"AREA\": \"12\", \"SNO\": \"1462\", \"CATEGORY\": \"01\", \"OVERVIEW\": \"\\uac00\\uc7a5\\ud55c\\uad6d\\uc801\\uc778\\ub3c4\\uc2dc, \\ub9db\\uacfc \\uba4b\\uc774 \\uc0b4\\uc544\\uc788\\uace0 \\uc804\\ud1b5\\uacfc \\ud604\\uc7ac\\uac00 \\uacf5\\uc874\\ud558\\ub294\\uacf3\\r\\n\\uc804\\ub77c\\ubd81\\ub3c4 \\uc804\\uc8fc\\uc2dc\\uc758 \\ubc29\\ubb38\\uc744 \\uc9c4\\uc2ec\\uc73c\\ub85c \\ud658\\uc601\\ud569\\ub2c8\\ub2e4\\r\\n\\uc800\\ud76c \\uc544\\ub9ac\\ub791\\ud638\\ud154\\uc740 \\uae09\\uaca9\\ud788 \\ub298\\uc5b4\\ub098\\ub294 \\uc774\\uace0\\uc7a5 \\ub9dd\\ubb38\\uac1d\\ub4e4\\uc758 \\ub2e4\\uc591\\ud55c \\uc694\\uad6c\\ub97c \\ucda9\\uc871\\ud558\\uae30 \\uc704\\ud558\\uc5ec\\r\\n\\uc804\\ub77c\\ubd81\\ub3c4\\uc640 \\uc804\\uc8fc\\uc2dc\\uac00 \\uc9c0\\uc815\\ud558\\uc5ec 2011\\ub144 9\\uc6d4\\uc5d0 open\\ud55c \\ud638\\ud154\\uc785\\ub2c8\\ub2e4\", \"TEL\": \"063-0273-4193\", \"ADDRESS1\": \"\\uc804\\ubd81 \\uc804\\uc8fc\\uc2dc \\ub355\\uc9c4\\uad6c \\uae08\\uc554\\ub3d9\", \"NAME\": \"\\uc544\\ub9ac\\ub791\\ud638\\ud154[\\uc6b0\\uc218\\uc219\\ubc15\\uc2dc\\uc124 \\uad7f\\uc2a4\\ud14c\\uc774]\", \"ADDRESS2\": \"701-3\"}, {\"IMG\": \"http://www.gojb.net/gwmsData/tourData/LODG_M/p1384841023819-1.JPG\", \"AREA\": \"12\", \"SNO\": \"1801\", \"CATEGORY\": \"01\", \"OVERVIEW\": \"\\uc804\\uc8fc \\uc6b0\\uc2e0\\ud638\\ud154\\uc740 40\\ub144\\uc774 \\ub118\\ub294 \\uc5ed\\uc0ac\\ub97c \\uac00\\uc9c0\\uace0 \\uc788\\uc2b5\\ub2c8\\ub2e4. \\ucd5c\\ucd08 \\uc2dc\\ubbfc\\uadf9\\uc7a5\\uc73c\\ub85c \\ud0c4\\uc0dd\\ud558\\uc5ec \\uc6b0\\uc2e0\\ud638\\ud154\\ub85c \\uc815\\uce58\\uc778,\\uc5b8\\ub860\\uc778,\\uc608\\uc220\\uc778\\ub4f1\\ub4f1 \\ub9ce\\uc740 \\uadc0\\ube48\\uc744 \\ub9de\\uc774\\ud55c \\ud638\\ud154\\uc774\\uba70, \\uc804\\uc8fc\\uc2dc\\ubbfc\\uc758 \\ucd94\\uc5b5\\uc744 \\ub2f4\\uc740 \\ud638\\ud154\\uc785\\ub2c8\\ub2e4.\", \"TEL\": \"063-0273-2232\", \"ADDRESS1\": \"\\uc804\\ubd81 \\uc804\\uc8fc\\uc2dc \\uc644\\uc0b0\\uad6c \\uace0\\uc0ac\\ub3d9\", \"NAME\": \"\\uc6b0\\uc2e0\\ud638\\ud154[\\uc6b0\\uc218\\uc219\\ubc15\\uc2dc\\uc124\\uad7f\\uc2a4\\ud14c\\uc774]\", \"ADDRESS2\": \"227-32\"}, {\"IMG\": \"http://www.gojb.net/gwmsData/tourData/LODG_M/p1443770881194-1.jpg\", \"AREA\": \"12\", \"SNO\": \"1701\", \"CATEGORY\": \"01\", \"OVERVIEW\": \"\\ucc9c\\ub144\\uc774 \\ub118\\ub294 \\uc5ed\\uc0ac\\uc640 \\uc804\\ud1b5\\uc744 \\uc9c0\\ucf1c\\uc624\\uba70, \\uace7\\uc740 \\uc815\\uc2e0\\uc774 \\uc0b4\\uc544\\uc788\\ub294 \\uac00\\uc7a5 \\ud55c\\uad6d\\uc801\\uc778 \\ub3c4\\uc2dc \\u201c\\uc804\\uc8fc \\ub2e4\\uac00\\ub3d9\\u201d\\uc5d0 \\uc0c8\\ub86d\\uac8c \\uc624\\ud508\\ud558\\ub294 \\u201c\\ud48d\\ub0a8\\uad00\\uad11\\ud638\\ud154\\u201d\\uc785\\ub2c8\\ub2e4.\", \"TEL\": \"063-0231-7900\", \"ADDRESS1\": \"\\uc804\\ubd81 \\uc804\\uc8fc\\uc2dc \\uc644\\uc0b0\\uad6c \\ub2e4\\uac00\\ub3d93\\uac00\", \"NAME\": \"\\ud48d\\ub0a8\\uad00\\uad11\\ud638\\ud154\", \"ADDRESS2\": \"43-2\"}]}}}}\n",
      "{'response': {'header': {'resultCode': '200', 'resultMsg': 'OK'}, 'body': {'totalCount': '5', 'items': {'item': [{'IMG': 'http://www.gojb.net/gwmsData/tourData/LODG_M/p1329724834083-1.jpg', 'AREA': '12', 'SNO': '1402', 'CATEGORY': '01', 'OVERVIEW': '르시엘 호텔은 고객 여러분들에게 신뢰감을 주기 위하여 전라북도와 전주시의 지정(전라북도 공고 제2011-791호)을 받았으며,\\r\\n한국관광공사 굿스테이 승인(KTO-Cer-11-0023)을 받았습니다.', 'TEL': '063-0245-4848', 'ADDRESS1': '전북 전주시 덕진구 산정동', 'NAME': '르시엘 호텔[우수숙박시설 굿스테이]', 'ADDRESS2': '860-4'}, {'IMG': 'http://www.gojb.net/gwmsData/tourData/LODG_M/p1329712485276-1.jpg', 'AREA': '12', 'SNO': '1401', 'CATEGORY': '01', 'OVERVIEW': '한국관광공사, 문화체육관광부 지정 우수호텔 전주 라뉘호텔입니다.\\r\\n라뉘는 프랑스어로 그날밤, 아름다운 밤을 의미하며 이 호텔에 오신분들에게 아름다운 추억과 행복이 깃드시길 기원한다는 뜻입니다.', 'TEL': '063-0253-5708', 'ADDRESS1': '전북 전주시 덕진구 덕진동2가', 'NAME': '라뉘호텔[우수숙박시설 굿스테이]', 'ADDRESS2': '189-12'}, {'IMG': 'http://www.gojb.net/gwmsData/tourData/LODG_M/p1332131756558-1.jpg', 'AREA': '12', 'SNO': '1462', 'CATEGORY': '01', 'OVERVIEW': '가장한국적인도시, 맛과 멋이 살아있고 전통과 현재가 공존하는곳\\r\\n전라북도 전주시의 방문을 진심으로 환영합니다\\r\\n저희 아리랑호텔은 급격히 늘어나는 이고장 망문객들의 다양한 요구를 충족하기 위하여\\r\\n전라북도와 전주시가 지정하여 2011년 9월에 open한 호텔입니다', 'TEL': '063-0273-4193', 'ADDRESS1': '전북 전주시 덕진구 금암동', 'NAME': '아리랑호텔[우수숙박시설 굿스테이]', 'ADDRESS2': '701-3'}, {'IMG': 'http://www.gojb.net/gwmsData/tourData/LODG_M/p1384841023819-1.JPG', 'AREA': '12', 'SNO': '1801', 'CATEGORY': '01', 'OVERVIEW': '전주 우신호텔은 40년이 넘는 역사를 가지고 있습니다. 최초 시민극장으로 탄생하여 우신호텔로 정치인,언론인,예술인등등 많은 귀빈을 맞이한 호텔이며, 전주시민의 추억을 담은 호텔입니다.', 'TEL': '063-0273-2232', 'ADDRESS1': '전북 전주시 완산구 고사동', 'NAME': '우신호텔[우수숙박시설굿스테이]', 'ADDRESS2': '227-32'}, {'IMG': 'http://www.gojb.net/gwmsData/tourData/LODG_M/p1443770881194-1.jpg', 'AREA': '12', 'SNO': '1701', 'CATEGORY': '01', 'OVERVIEW': '천년이 넘는 역사와 전통을 지켜오며, 곧은 정신이 살아있는 가장 한국적인 도시 “전주 다가동”에 새롭게 오픈하는 “풍남관광호텔”입니다.', 'TEL': '063-0231-7900', 'ADDRESS1': '전북 전주시 완산구 다가동3가', 'NAME': '풍남관광호텔', 'ADDRESS2': '43-2'}]}}}}\n"
     ]
    }
   ],
   "source": [
    "print(\"<< 전라북도 관광지 숙박 위치 정보 >>\")\n",
    "area = input(\n",
    "    '지역코드(01-고창군 02-군산시 03-김제시 04-남원시 05-무주군 06-부안군 07-순창군 08-완주군 09-익산시 10-임실군 11-장수군 12-전주시 13-진안군 14-진안군) : ')\n",
    "category = input('숙박시설분류(01-호텔 02-굿스테이 03-리조트/콘도 04-모텔 05-팬션/민박 06-유스호스텔/수련원 07-한옥) : ')\n",
    "\n",
    "#result에 getTourismStatsService 함수의 리스트값을 넣어줌\n",
    "result = getTourismStatsService(area, category)  # [CODE 3]\n",
    "\n",
    "# 컬럼 네임설정\n",
    "columns = [\"고유번호\", \"지역코드\", '숙박종류', \"이름\", \"주소\", \"상세주소\", '전화번호']\n",
    "result_df = pd.DataFrame(result, columns=columns)\n",
    "result_df.to_csv(f'./{area}_{category}.csv', index=False, encoding='cp949')"
   ],
   "metadata": {
    "collapsed": false
   }
  }
 ],
 "metadata": {
  "kernelspec": {
   "display_name": "Python 3",
   "language": "python",
   "name": "python3"
  },
  "language_info": {
   "codemirror_mode": {
    "name": "ipython",
    "version": 2
   },
   "file_extension": ".py",
   "mimetype": "text/x-python",
   "name": "python",
   "nbconvert_exporter": "python",
   "pygments_lexer": "ipython2",
   "version": "2.7.6"
  }
 },
 "nbformat": 4,
 "nbformat_minor": 0
}
