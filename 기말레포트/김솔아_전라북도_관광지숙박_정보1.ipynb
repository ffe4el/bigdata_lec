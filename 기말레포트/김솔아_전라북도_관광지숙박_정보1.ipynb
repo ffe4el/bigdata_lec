{
 "cells": [
  {
   "cell_type": "code",
   "execution_count": 12,
   "metadata": {
    "collapsed": true
   },
   "outputs": [
    {
     "name": "stdout",
     "output_type": "stream",
     "text": [
      "b'<response>\\n<header>\\n<resultCode>200</resultCode>\\n<resultMsg>OK</resultMsg>\\n</header>\\n<body>\\n<totalCount>5</totalCount>\\n<items>\\n<item>\\n<IMG>http://www.gojb.net/gwmsData/tourData/LODG_M/p1329724834083-1.jpg</IMG>\\n<AREA>12</AREA>\\n<SNO>1402</SNO>\\n<CATEGORY>01</CATEGORY>\\n<OVERVIEW> \\xeb\\xa5\\xb4\\xec\\x8b\\x9c\\xec\\x97\\x98 \\xed\\x98\\xb8\\xed\\x85\\x94\\xec\\x9d\\x80 \\xea\\xb3\\xa0\\xea\\xb0\\x9d \\xec\\x97\\xac\\xeb\\x9f\\xac\\xeb\\xb6\\x84\\xeb\\x93\\xa4\\xec\\x97\\x90\\xea\\xb2\\x8c \\xec\\x8b\\xa0\\xeb\\xa2\\xb0\\xea\\xb0\\x90\\xec\\x9d\\x84 \\xec\\xa3\\xbc\\xea\\xb8\\xb0 \\xec\\x9c\\x84\\xed\\x95\\x98\\xec\\x97\\xac \\xec\\xa0\\x84\\xeb\\x9d\\xbc\\xeb\\xb6\\x81\\xeb\\x8f\\x84\\xec\\x99\\x80 \\xec\\xa0\\x84\\xec\\xa3\\xbc\\xec\\x8b\\x9c\\xec\\x9d\\x98 \\xec\\xa7\\x80\\xec\\xa0\\x95(\\xec\\xa0\\x84\\xeb\\x9d\\xbc\\xeb\\xb6\\x81\\xeb\\x8f\\x84 \\xea\\xb3\\xb5\\xea\\xb3\\xa0 \\xec\\xa0\\x9c2011-791\\xed\\x98\\xb8)\\xec\\x9d\\x84 \\xeb\\xb0\\x9b\\xec\\x95\\x98\\xec\\x9c\\xbc\\xeb\\xa9\\xb0,&#13;\\n\\xed\\x95\\x9c\\xea\\xb5\\xad\\xea\\xb4\\x80\\xea\\xb4\\x91\\xea\\xb3\\xb5\\xec\\x82\\xac \\xea\\xb5\\xbf\\xec\\x8a\\xa4\\xed\\x85\\x8c\\xec\\x9d\\xb4 \\xec\\x8a\\xb9\\xec\\x9d\\xb8(KTO-Cer-11-0023)\\xec\\x9d\\x84 \\xeb\\xb0\\x9b\\xec\\x95\\x98\\xec\\x8a\\xb5\\xeb\\x8b\\x88\\xeb\\x8b\\xa4.</OVERVIEW>\\n<TEL>063-0245-4848</TEL>\\n<ADDRESS1>\\xec\\xa0\\x84\\xeb\\xb6\\x81 \\xec\\xa0\\x84\\xec\\xa3\\xbc\\xec\\x8b\\x9c \\xeb\\x8d\\x95\\xec\\xa7\\x84\\xea\\xb5\\xac \\xec\\x82\\xb0\\xec\\xa0\\x95\\xeb\\x8f\\x99</ADDRESS1>\\n<NAME>\\xeb\\xa5\\xb4\\xec\\x8b\\x9c\\xec\\x97\\x98 \\xed\\x98\\xb8\\xed\\x85\\x94[\\xec\\x9a\\xb0\\xec\\x88\\x98\\xec\\x88\\x99\\xeb\\xb0\\x95\\xec\\x8b\\x9c\\xec\\x84\\xa4 \\xea\\xb5\\xbf\\xec\\x8a\\xa4\\xed\\x85\\x8c\\xec\\x9d\\xb4]</NAME>\\n<ADDRESS2>860-4</ADDRESS2>\\n</item>\\n<item>\\n<IMG>http://www.gojb.net/gwmsData/tourData/LODG_M/p1329712485276-1.jpg</IMG>\\n<AREA>12</AREA>\\n<SNO>1401</SNO>\\n<CATEGORY>01</CATEGORY>\\n<OVERVIEW>\\xed\\x95\\x9c\\xea\\xb5\\xad\\xea\\xb4\\x80\\xea\\xb4\\x91\\xea\\xb3\\xb5\\xec\\x82\\xac, \\xeb\\xac\\xb8\\xed\\x99\\x94\\xec\\xb2\\xb4\\xec\\x9c\\xa1\\xea\\xb4\\x80\\xea\\xb4\\x91\\xeb\\xb6\\x80 \\xec\\xa7\\x80\\xec\\xa0\\x95 \\xec\\x9a\\xb0\\xec\\x88\\x98\\xed\\x98\\xb8\\xed\\x85\\x94 \\xec\\xa0\\x84\\xec\\xa3\\xbc \\xeb\\x9d\\xbc\\xeb\\x89\\x98\\xed\\x98\\xb8\\xed\\x85\\x94\\xec\\x9e\\x85\\xeb\\x8b\\x88\\xeb\\x8b\\xa4.&#13;\\n\\xeb\\x9d\\xbc\\xeb\\x89\\x98\\xeb\\x8a\\x94 \\xed\\x94\\x84\\xeb\\x9e\\x91\\xec\\x8a\\xa4\\xec\\x96\\xb4\\xeb\\xa1\\x9c \\xea\\xb7\\xb8\\xeb\\x82\\xa0\\xeb\\xb0\\xa4, \\xec\\x95\\x84\\xeb\\xa6\\x84\\xeb\\x8b\\xa4\\xec\\x9a\\xb4 \\xeb\\xb0\\xa4\\xec\\x9d\\x84 \\xec\\x9d\\x98\\xeb\\xaf\\xb8\\xed\\x95\\x98\\xeb\\xa9\\xb0 \\xec\\x9d\\xb4 \\xed\\x98\\xb8\\xed\\x85\\x94\\xec\\x97\\x90 \\xec\\x98\\xa4\\xec\\x8b\\xa0\\xeb\\xb6\\x84\\xeb\\x93\\xa4\\xec\\x97\\x90\\xea\\xb2\\x8c \\xec\\x95\\x84\\xeb\\xa6\\x84\\xeb\\x8b\\xa4\\xec\\x9a\\xb4 \\xec\\xb6\\x94\\xec\\x96\\xb5\\xea\\xb3\\xbc \\xed\\x96\\x89\\xeb\\xb3\\xb5\\xec\\x9d\\xb4 \\xea\\xb9\\x83\\xeb\\x93\\x9c\\xec\\x8b\\x9c\\xea\\xb8\\xb8 \\xea\\xb8\\xb0\\xec\\x9b\\x90\\xed\\x95\\x9c\\xeb\\x8b\\xa4\\xeb\\x8a\\x94 \\xeb\\x9c\\xbb\\xec\\x9e\\x85\\xeb\\x8b\\x88\\xeb\\x8b\\xa4.</OVERVIEW>\\n<TEL>063-0253-5708</TEL>\\n<ADDRESS1>\\xec\\xa0\\x84\\xeb\\xb6\\x81 \\xec\\xa0\\x84\\xec\\xa3\\xbc\\xec\\x8b\\x9c \\xeb\\x8d\\x95\\xec\\xa7\\x84\\xea\\xb5\\xac \\xeb\\x8d\\x95\\xec\\xa7\\x84\\xeb\\x8f\\x992\\xea\\xb0\\x80 </ADDRESS1>\\n<NAME>\\xeb\\x9d\\xbc\\xeb\\x89\\x98\\xed\\x98\\xb8\\xed\\x85\\x94[\\xec\\x9a\\xb0\\xec\\x88\\x98\\xec\\x88\\x99\\xeb\\xb0\\x95\\xec\\x8b\\x9c\\xec\\x84\\xa4 \\xea\\xb5\\xbf\\xec\\x8a\\xa4\\xed\\x85\\x8c\\xec\\x9d\\xb4]</NAME>\\n<ADDRESS2>189-12</ADDRESS2>\\n</item>\\n<item>\\n<IMG>http://www.gojb.net/gwmsData/tourData/LODG_M/p1332131756558-1.jpg</IMG>\\n<AREA>12</AREA>\\n<SNO>1462</SNO>\\n<CATEGORY>01</CATEGORY>\\n<OVERVIEW>\\xea\\xb0\\x80\\xec\\x9e\\xa5\\xed\\x95\\x9c\\xea\\xb5\\xad\\xec\\xa0\\x81\\xec\\x9d\\xb8\\xeb\\x8f\\x84\\xec\\x8b\\x9c, \\xeb\\xa7\\x9b\\xea\\xb3\\xbc \\xeb\\xa9\\x8b\\xec\\x9d\\xb4 \\xec\\x82\\xb4\\xec\\x95\\x84\\xec\\x9e\\x88\\xea\\xb3\\xa0 \\xec\\xa0\\x84\\xed\\x86\\xb5\\xea\\xb3\\xbc \\xed\\x98\\x84\\xec\\x9e\\xac\\xea\\xb0\\x80 \\xea\\xb3\\xb5\\xec\\xa1\\xb4\\xed\\x95\\x98\\xeb\\x8a\\x94\\xea\\xb3\\xb3&#13;\\n\\xec\\xa0\\x84\\xeb\\x9d\\xbc\\xeb\\xb6\\x81\\xeb\\x8f\\x84 \\xec\\xa0\\x84\\xec\\xa3\\xbc\\xec\\x8b\\x9c\\xec\\x9d\\x98 \\xeb\\xb0\\xa9\\xeb\\xac\\xb8\\xec\\x9d\\x84 \\xec\\xa7\\x84\\xec\\x8b\\xac\\xec\\x9c\\xbc\\xeb\\xa1\\x9c \\xed\\x99\\x98\\xec\\x98\\x81\\xed\\x95\\xa9\\xeb\\x8b\\x88\\xeb\\x8b\\xa4&#13;\\n\\xec\\xa0\\x80\\xed\\x9d\\xac \\xec\\x95\\x84\\xeb\\xa6\\xac\\xeb\\x9e\\x91\\xed\\x98\\xb8\\xed\\x85\\x94\\xec\\x9d\\x80 \\xea\\xb8\\x89\\xea\\xb2\\xa9\\xed\\x9e\\x88 \\xeb\\x8a\\x98\\xec\\x96\\xb4\\xeb\\x82\\x98\\xeb\\x8a\\x94 \\xec\\x9d\\xb4\\xea\\xb3\\xa0\\xec\\x9e\\xa5 \\xeb\\xa7\\x9d\\xeb\\xac\\xb8\\xea\\xb0\\x9d\\xeb\\x93\\xa4\\xec\\x9d\\x98 \\xeb\\x8b\\xa4\\xec\\x96\\x91\\xed\\x95\\x9c \\xec\\x9a\\x94\\xea\\xb5\\xac\\xeb\\xa5\\xbc \\xec\\xb6\\xa9\\xec\\xa1\\xb1\\xed\\x95\\x98\\xea\\xb8\\xb0 \\xec\\x9c\\x84\\xed\\x95\\x98\\xec\\x97\\xac&#13;\\n\\xec\\xa0\\x84\\xeb\\x9d\\xbc\\xeb\\xb6\\x81\\xeb\\x8f\\x84\\xec\\x99\\x80 \\xec\\xa0\\x84\\xec\\xa3\\xbc\\xec\\x8b\\x9c\\xea\\xb0\\x80 \\xec\\xa7\\x80\\xec\\xa0\\x95\\xed\\x95\\x98\\xec\\x97\\xac 2011\\xeb\\x85\\x84 9\\xec\\x9b\\x94\\xec\\x97\\x90 open\\xed\\x95\\x9c \\xed\\x98\\xb8\\xed\\x85\\x94\\xec\\x9e\\x85\\xeb\\x8b\\x88\\xeb\\x8b\\xa4</OVERVIEW>\\n<TEL>063-0273-4193</TEL>\\n<ADDRESS1>\\xec\\xa0\\x84\\xeb\\xb6\\x81 \\xec\\xa0\\x84\\xec\\xa3\\xbc\\xec\\x8b\\x9c \\xeb\\x8d\\x95\\xec\\xa7\\x84\\xea\\xb5\\xac \\xea\\xb8\\x88\\xec\\x95\\x94\\xeb\\x8f\\x99 </ADDRESS1>\\n<NAME>\\xec\\x95\\x84\\xeb\\xa6\\xac\\xeb\\x9e\\x91\\xed\\x98\\xb8\\xed\\x85\\x94[\\xec\\x9a\\xb0\\xec\\x88\\x98\\xec\\x88\\x99\\xeb\\xb0\\x95\\xec\\x8b\\x9c\\xec\\x84\\xa4 \\xea\\xb5\\xbf\\xec\\x8a\\xa4\\xed\\x85\\x8c\\xec\\x9d\\xb4]</NAME>\\n<ADDRESS2>701-3</ADDRESS2>\\n</item>\\n<item>\\n<IMG>http://www.gojb.net/gwmsData/tourData/LODG_M/p1384841023819-1.JPG</IMG>\\n<AREA>12</AREA>\\n<SNO>1801</SNO>\\n<CATEGORY>01</CATEGORY>\\n<OVERVIEW>\\xec\\xa0\\x84\\xec\\xa3\\xbc \\xec\\x9a\\xb0\\xec\\x8b\\xa0\\xed\\x98\\xb8\\xed\\x85\\x94\\xec\\x9d\\x80 40\\xeb\\x85\\x84\\xec\\x9d\\xb4 \\xeb\\x84\\x98\\xeb\\x8a\\x94 \\xec\\x97\\xad\\xec\\x82\\xac\\xeb\\xa5\\xbc \\xea\\xb0\\x80\\xec\\xa7\\x80\\xea\\xb3\\xa0 \\xec\\x9e\\x88\\xec\\x8a\\xb5\\xeb\\x8b\\x88\\xeb\\x8b\\xa4. \\xec\\xb5\\x9c\\xec\\xb4\\x88 \\xec\\x8b\\x9c\\xeb\\xaf\\xbc\\xea\\xb7\\xb9\\xec\\x9e\\xa5\\xec\\x9c\\xbc\\xeb\\xa1\\x9c \\xed\\x83\\x84\\xec\\x83\\x9d\\xed\\x95\\x98\\xec\\x97\\xac \\xec\\x9a\\xb0\\xec\\x8b\\xa0\\xed\\x98\\xb8\\xed\\x85\\x94\\xeb\\xa1\\x9c \\xec\\xa0\\x95\\xec\\xb9\\x98\\xec\\x9d\\xb8,\\xec\\x96\\xb8\\xeb\\xa1\\xa0\\xec\\x9d\\xb8,\\xec\\x98\\x88\\xec\\x88\\xa0\\xec\\x9d\\xb8\\xeb\\x93\\xb1\\xeb\\x93\\xb1 \\xeb\\xa7\\x8e\\xec\\x9d\\x80 \\xea\\xb7\\x80\\xeb\\xb9\\x88\\xec\\x9d\\x84 \\xeb\\xa7\\x9e\\xec\\x9d\\xb4\\xed\\x95\\x9c \\xed\\x98\\xb8\\xed\\x85\\x94\\xec\\x9d\\xb4\\xeb\\xa9\\xb0, \\xec\\xa0\\x84\\xec\\xa3\\xbc\\xec\\x8b\\x9c\\xeb\\xaf\\xbc\\xec\\x9d\\x98 \\xec\\xb6\\x94\\xec\\x96\\xb5\\xec\\x9d\\x84 \\xeb\\x8b\\xb4\\xec\\x9d\\x80 \\xed\\x98\\xb8\\xed\\x85\\x94\\xec\\x9e\\x85\\xeb\\x8b\\x88\\xeb\\x8b\\xa4.</OVERVIEW>\\n<TEL>063-0273-2232</TEL>\\n<ADDRESS1>\\xec\\xa0\\x84\\xeb\\xb6\\x81 \\xec\\xa0\\x84\\xec\\xa3\\xbc\\xec\\x8b\\x9c \\xec\\x99\\x84\\xec\\x82\\xb0\\xea\\xb5\\xac \\xea\\xb3\\xa0\\xec\\x82\\xac\\xeb\\x8f\\x99 </ADDRESS1>\\n<NAME>\\xec\\x9a\\xb0\\xec\\x8b\\xa0\\xed\\x98\\xb8\\xed\\x85\\x94[\\xec\\x9a\\xb0\\xec\\x88\\x98\\xec\\x88\\x99\\xeb\\xb0\\x95\\xec\\x8b\\x9c\\xec\\x84\\xa4\\xea\\xb5\\xbf\\xec\\x8a\\xa4\\xed\\x85\\x8c\\xec\\x9d\\xb4]</NAME>\\n<ADDRESS2>227-32</ADDRESS2>\\n</item>\\n<item>\\n<IMG>http://www.gojb.net/gwmsData/tourData/LODG_M/p1443770881194-1.jpg</IMG>\\n<AREA>12</AREA>\\n<SNO>1701</SNO>\\n<CATEGORY>01</CATEGORY>\\n<OVERVIEW>\\xec\\xb2\\x9c\\xeb\\x85\\x84\\xec\\x9d\\xb4 \\xeb\\x84\\x98\\xeb\\x8a\\x94 \\xec\\x97\\xad\\xec\\x82\\xac\\xec\\x99\\x80 \\xec\\xa0\\x84\\xed\\x86\\xb5\\xec\\x9d\\x84 \\xec\\xa7\\x80\\xec\\xbc\\x9c\\xec\\x98\\xa4\\xeb\\xa9\\xb0, \\xea\\xb3\\xa7\\xec\\x9d\\x80 \\xec\\xa0\\x95\\xec\\x8b\\xa0\\xec\\x9d\\xb4 \\xec\\x82\\xb4\\xec\\x95\\x84\\xec\\x9e\\x88\\xeb\\x8a\\x94 \\xea\\xb0\\x80\\xec\\x9e\\xa5 \\xed\\x95\\x9c\\xea\\xb5\\xad\\xec\\xa0\\x81\\xec\\x9d\\xb8 \\xeb\\x8f\\x84\\xec\\x8b\\x9c \\xe2\\x80\\x9c\\xec\\xa0\\x84\\xec\\xa3\\xbc \\xeb\\x8b\\xa4\\xea\\xb0\\x80\\xeb\\x8f\\x99\\xe2\\x80\\x9d\\xec\\x97\\x90 \\xec\\x83\\x88\\xeb\\xa1\\xad\\xea\\xb2\\x8c \\xec\\x98\\xa4\\xed\\x94\\x88\\xed\\x95\\x98\\xeb\\x8a\\x94 \\xe2\\x80\\x9c\\xed\\x92\\x8d\\xeb\\x82\\xa8\\xea\\xb4\\x80\\xea\\xb4\\x91\\xed\\x98\\xb8\\xed\\x85\\x94\\xe2\\x80\\x9d\\xec\\x9e\\x85\\xeb\\x8b\\x88\\xeb\\x8b\\xa4.</OVERVIEW>\\n<TEL>063-0231-7900</TEL>\\n<ADDRESS1>\\xec\\xa0\\x84\\xeb\\xb6\\x81 \\xec\\xa0\\x84\\xec\\xa3\\xbc\\xec\\x8b\\x9c \\xec\\x99\\x84\\xec\\x82\\xb0\\xea\\xb5\\xac \\xeb\\x8b\\xa4\\xea\\xb0\\x80\\xeb\\x8f\\x993\\xea\\xb0\\x80 </ADDRESS1>\\n<NAME>\\xed\\x92\\x8d\\xeb\\x82\\xa8\\xea\\xb4\\x80\\xea\\xb4\\x91\\xed\\x98\\xb8\\xed\\x85\\x94</NAME>\\n<ADDRESS2>43-2</ADDRESS2>\\n</item>\\n</items>\\n</body>\\n</response>\\n'\n"
     ]
    }
   ],
   "source": [
    "import requests\n",
    "import pandas as pd\n",
    "\n",
    "url = 'http://apis.data.go.kr/6450000/TouristAccoService/getTouristAcco'\n",
    "params = {'ServiceKey': '',\n",
    "          'area' : '',\n",
    "          'category' : '',\n",
    "        }\n",
    "\n",
    "mykey = \"TEo5fURVg6O3ChvfXOmzkr0IXbTl0d4VkfIj3JVTz0ctJ+NS0IjPHxLXlijxDlubeXvzd3ZlGksTn/HhACp8gA==\"\n",
    "params['ServiceKey']=mykey\n",
    "# 한 페이지 결과 수\n",
    "params['area']=input('지역코드 : ')\n",
    "# 페이지 번호\n",
    "params['category']=input('숙박종류 : ')\n",
    "\n",
    "\n",
    "# 오류가 날 때가 있어서(SERVICE KEY ERROR)..그럴 땐 2~3번 실행 하면 됩니다!\n",
    "response = requests.get(url, params=params)\n",
    "print(response.content)"
   ]
  },
  {
   "cell_type": "code",
   "execution_count": 13,
   "outputs": [
    {
     "name": "stdout",
     "output_type": "stream",
     "text": [
      "12 1402 전북 전주시 덕진구 산정동 860-4 르시엘 호텔[우수숙박시설 굿스테이] 063-0245-4848 01\n",
      "12 1401 전북 전주시 덕진구 덕진동2가  189-12 라뉘호텔[우수숙박시설 굿스테이] 063-0253-5708 01\n",
      "12 1462 전북 전주시 덕진구 금암동  701-3 아리랑호텔[우수숙박시설 굿스테이] 063-0273-4193 01\n",
      "12 1801 전북 전주시 완산구 고사동  227-32 우신호텔[우수숙박시설굿스테이] 063-0273-2232 01\n",
      "12 1701 전북 전주시 완산구 다가동3가  43-2 풍남관광호텔 063-0231-7900 01\n"
     ]
    }
   ],
   "source": [
    "from bs4 import BeautifulSoup\n",
    "soup = BeautifulSoup(response.text, 'lxml-xml')\n",
    "items = soup.select('response > body > items > item')\n",
    "for item in items:\n",
    "  print(item.AREA.text,\n",
    "        item.SNO.text,\n",
    "        item.ADDRESS1.text,\n",
    "        item.ADDRESS2.text,\n",
    "        item.NAME.text,\n",
    "        item.TEL.text,\n",
    "        item.CATEGORY.text,\n",
    "        )"
   ],
   "metadata": {
    "collapsed": false
   }
  },
  {
   "cell_type": "code",
   "execution_count": 14,
   "outputs": [],
   "source": [
    "def parse():\n",
    "  try:\n",
    "    area = item.find('AREA').get_text()\n",
    "    sno = item.find('SNO').get_text()\n",
    "    address1 = item.find('ADDRESS1').get_text()\n",
    "    address2 = item.find('ADDRESS2').get_text()\n",
    "    name = item.find('NAME').get_text()\n",
    "    tel = item.find('TEL').get_text()\n",
    "    category = item.find('CATEGORY').get_text()\n",
    "\n",
    "    return {\n",
    "        \"지역코드\": area,\n",
    "        \"고유번호\": sno,\n",
    "        \"주소\" : address1,\n",
    "        \"상세주소\" : address2,\n",
    "        \"이름\" : name,\n",
    "        \"전화번호\" : tel,\n",
    "        \"숙박종류\" : category,\n",
    "      }\n",
    "  except AttributeError as e:\n",
    "    return {\n",
    "        \"지역코드\": None,\n",
    "        \"고유번호\": None,\n",
    "        \"주소\" : None,\n",
    "        \"상세주소\" : None,\n",
    "        \"이름\" : None,\n",
    "        \"전화번호\" : None,\n",
    "        \"숙박종류\" : None,\n",
    "\n",
    "    }"
   ],
   "metadata": {
    "collapsed": false
   }
  },
  {
   "cell_type": "code",
   "execution_count": 15,
   "outputs": [],
   "source": [
    "row = []\n",
    "for item in items:\n",
    "  row.append(parse())"
   ],
   "metadata": {
    "collapsed": false
   }
  },
  {
   "cell_type": "code",
   "execution_count": 16,
   "outputs": [
    {
     "data": {
      "text/plain": "  지역코드  고유번호                 주소    상세주소                   이름           전화번호  \\\n0   12  1402     전북 전주시 덕진구 산정동   860-4  르시엘 호텔[우수숙박시설 굿스테이]  063-0245-4848   \n1   12  1401  전북 전주시 덕진구 덕진동2가   189-12    라뉘호텔[우수숙박시설 굿스테이]  063-0253-5708   \n2   12  1462    전북 전주시 덕진구 금암동    701-3   아리랑호텔[우수숙박시설 굿스테이]  063-0273-4193   \n3   12  1801    전북 전주시 완산구 고사동   227-32     우신호텔[우수숙박시설굿스테이]  063-0273-2232   \n4   12  1701  전북 전주시 완산구 다가동3가     43-2               풍남관광호텔  063-0231-7900   \n\n  숙박종류  \n0   01  \n1   01  \n2   01  \n3   01  \n4   01  ",
      "text/html": "<div>\n<style scoped>\n    .dataframe tbody tr th:only-of-type {\n        vertical-align: middle;\n    }\n\n    .dataframe tbody tr th {\n        vertical-align: top;\n    }\n\n    .dataframe thead th {\n        text-align: right;\n    }\n</style>\n<table border=\"1\" class=\"dataframe\">\n  <thead>\n    <tr style=\"text-align: right;\">\n      <th></th>\n      <th>지역코드</th>\n      <th>고유번호</th>\n      <th>주소</th>\n      <th>상세주소</th>\n      <th>이름</th>\n      <th>전화번호</th>\n      <th>숙박종류</th>\n    </tr>\n  </thead>\n  <tbody>\n    <tr>\n      <th>0</th>\n      <td>12</td>\n      <td>1402</td>\n      <td>전북 전주시 덕진구 산정동</td>\n      <td>860-4</td>\n      <td>르시엘 호텔[우수숙박시설 굿스테이]</td>\n      <td>063-0245-4848</td>\n      <td>01</td>\n    </tr>\n    <tr>\n      <th>1</th>\n      <td>12</td>\n      <td>1401</td>\n      <td>전북 전주시 덕진구 덕진동2가</td>\n      <td>189-12</td>\n      <td>라뉘호텔[우수숙박시설 굿스테이]</td>\n      <td>063-0253-5708</td>\n      <td>01</td>\n    </tr>\n    <tr>\n      <th>2</th>\n      <td>12</td>\n      <td>1462</td>\n      <td>전북 전주시 덕진구 금암동</td>\n      <td>701-3</td>\n      <td>아리랑호텔[우수숙박시설 굿스테이]</td>\n      <td>063-0273-4193</td>\n      <td>01</td>\n    </tr>\n    <tr>\n      <th>3</th>\n      <td>12</td>\n      <td>1801</td>\n      <td>전북 전주시 완산구 고사동</td>\n      <td>227-32</td>\n      <td>우신호텔[우수숙박시설굿스테이]</td>\n      <td>063-0273-2232</td>\n      <td>01</td>\n    </tr>\n    <tr>\n      <th>4</th>\n      <td>12</td>\n      <td>1701</td>\n      <td>전북 전주시 완산구 다가동3가</td>\n      <td>43-2</td>\n      <td>풍남관광호텔</td>\n      <td>063-0231-7900</td>\n      <td>01</td>\n    </tr>\n  </tbody>\n</table>\n</div>"
     },
     "execution_count": 16,
     "metadata": {},
     "output_type": "execute_result"
    }
   ],
   "source": [
    "df = pd.DataFrame(row)\n",
    "df"
   ],
   "metadata": {
    "collapsed": false
   }
  }
 ],
 "metadata": {
  "kernelspec": {
   "display_name": "Python 3",
   "language": "python",
   "name": "python3"
  },
  "language_info": {
   "codemirror_mode": {
    "name": "ipython",
    "version": 2
   },
   "file_extension": ".py",
   "mimetype": "text/x-python",
   "name": "python",
   "nbconvert_exporter": "python",
   "pygments_lexer": "ipython2",
   "version": "2.7.6"
  }
 },
 "nbformat": 4,
 "nbformat_minor": 0
}
