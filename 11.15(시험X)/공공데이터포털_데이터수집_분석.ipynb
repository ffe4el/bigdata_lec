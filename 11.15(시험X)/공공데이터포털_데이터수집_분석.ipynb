{
 "cells": [
  {
   "cell_type": "code",
   "execution_count": null,
   "outputs": [],
   "source": [
    "import urllib\n",
    "import datetime\n",
    "import json"
   ],
   "metadata": {
    "collapsed": false
   }
  },
  {
   "cell_type": "code",
   "execution_count": null,
   "metadata": {
    "collapsed": true
   },
   "outputs": [],
   "source": [
    "# [code1] url 접속을 요청하고 응답을 받아서 반환\n",
    "def getRequestUrl(url):\n",
    "    req = urllib.request.Request(url)  #매개변수로 받은 url에 대한 요청을 보낼 객체를 생성\n",
    "    try:\n",
    "        response = urllib.request.urlopen(req)  #요청 객체를 보내서 받은 응답 데이터를 response 객체에 저장\n",
    "\n",
    "        #response 객체에 저장된 코드를 확인. 코드가 200이면 요청을 정상 처리한 것이므로 성공.\n",
    "        # 메시지와 현재 시간을 파이썬 셸 창에 출력하고 응답을 utf-8 형식으로 디코딩하여 반환.\n",
    "        if response.getcode() == 200:\n",
    "            print(\"[%s] Url Request Success\" % datetime.datetime.now())\n",
    "            return response.read().decode('utf-8')\n",
    "    except Exception as e:\n",
    "        print(e)\n",
    "        print(\"[%s] Error for URL : %s\" % (datetime.datetime.now(), url))\n",
    "        return None\n"
   ]
  },
  {
   "cell_type": "code",
   "execution_count": null,
   "outputs": [],
   "source": [
    "# [code2] 입국관광통계서비스의 오픈 API를 사용하여 데이터 요청 url을 만들고 [CODE 1]의 getRequestUrl(url)을 호출해서 받은 응답 데이터를 반환\n",
    "\n",
    "def getTourismStatsItem(yyyymm, nat_cd, ed_cd):\n",
    "    service_url = \"http://openapi.tour.go.kr/openapi/service/EdrcntTourismStatsService/getEdrcntTourismStatsList\"\n",
    "\n",
    "\n",
    "    parameters = \"?_type=json&serviceKey=\" + 'TEo5fURVg6O3ChvfXOmzkr0IXbTl0d4VkfIj3JVTz0ctJ%2BNS0IjPHxLXlijxDlubeXvzd3ZlGksTn%2FHhACp8gA%3D%3D' #인증키\n",
    "    parameters += \"&YM=\" + yyyymm\n",
    "    parameters += \"&NAT_CD=\" + nat_cd\n",
    "    parameters += \"&ED_CD=\" + ed_cd\n",
    "\n",
    "    url = service_url + parameters\n",
    "    print(url)  #액세스 거부 여부 확인용 출력\n",
    "    responseDecode = getRequestUrl(url)  #[CODE 1]\n",
    "\n",
    "    if (responseDecode == None):\n",
    "        return None\n",
    "    else:\n",
    "        return json.loads(responseDecode)\n"
   ],
   "metadata": {
    "collapsed": false
   }
  },
  {
   "cell_type": "code",
   "execution_count": null,
   "outputs": [],
   "source": [
    "# [code3] 수집 기간 동안 월 단위로 [CODE 2]의 getTourismStatsItem()을 호출해 받은 데이터를 리스트로 묶어 반환\n",
    "\n",
    "def getTourismStatsService(nat_cd, ed_cd, nStartYear, nEndYear):\n",
    "    jsonResult = []\n",
    "    result = []\n",
    "    for year in range(nStartYear, nEndYear + 1):\n",
    "        for month in range(1, 13):\n",
    "            yyyymm = \"{0}{1:0>2}\".format(str(year), str(month))\n",
    "            jsonData = getTourismStatsItem(yyyymm, nat_cd, ed_cd)  #[CODE 2]\n",
    "            if (jsonData['response']['header']['resultMsg'] == 'OK'):\n",
    "                #데이터가 없는 마지막 항목인 경우 ----------------------------\n",
    "                if jsonData['response']['body']['items'] == '':\n",
    "                    dataEND = \"{0}{1:0>2}\".format(str(year), str(month - 1))\n",
    "                    print(\"데이터 없음.... \\n제공되는 통계 데이터는 %s년 %s월까지입니다.\"\n",
    "                          % (str(year), str(month - 1)))\n",
    "                    break\n",
    "                #jsonData를 출력하여 확인............................................\n",
    "                print(json.dumps(jsonData, indent=4,\n",
    "                                 sort_keys=True, ensure_ascii=False))\n",
    "\n",
    "                natName = jsonData['response']['body']['items']['item']\n",
    "                ['natKorNm']\n",
    "            natName = natName.replace(' ', '') #띄어쓰기 제거\n",
    "            num = jsonData['response']['body']['items']['item']['num']\n",
    "            ed = jsonData['response']['body']['items']['item']['ed']\n",
    "            print('[ %s_%s : %s ]' % (natName, yyyymm, num))\n",
    "            print('------------------------------------------------------')\n",
    "            jsonResult.append({'nat_name': natName, 'nat_cd': nat_cd,\n",
    "                               'yyyymm': yyyymm, 'visit_cnt': num})\n",
    "            result.append([natName, nat_cd, yyyymm, num])\n",
    "    return (jsonResult, result, natName, ed, dataEND)\n",
    "\n"
   ],
   "metadata": {
    "collapsed": false
   }
  }
 ],
 "metadata": {
  "kernelspec": {
   "display_name": "Python 3",
   "language": "python",
   "name": "python3"
  },
  "language_info": {
   "codemirror_mode": {
    "name": "ipython",
    "version": 2
   },
   "file_extension": ".py",
   "mimetype": "text/x-python",
   "name": "python",
   "nbconvert_exporter": "python",
   "pygments_lexer": "ipython2",
   "version": "2.7.6"
  }
 },
 "nbformat": 4,
 "nbformat_minor": 0
}
