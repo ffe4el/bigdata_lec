{
 "cells": [
  {
   "cell_type": "markdown",
   "metadata": {
    "pycharm": {
     "name": "#%% md\n"
    }
   },
   "source": [
    "넘파이 기초"
   ]
  },
  {
   "cell_type": "code",
   "execution_count": 30,
   "metadata": {
    "pycharm": {
     "name": "#%%\n"
    }
   },
   "outputs": [
    {
     "name": "stdout",
     "output_type": "stream",
     "text": [
      "114 240 226 204  27 \n",
      " 61 184 172 133  40 \n",
      "255 229 128 140 134 \n",
      " 18 131  84 209  59 \n",
      "222 201   4 199 136 \n"
     ]
    }
   ],
   "source": [
    "import random\n",
    "\n",
    "# 파이썬 2차원 리스트 생성(랜덤값 받아와서 입력하기)\n",
    "SIZE = 5\n",
    "#0부터 255까지 랜덤값을 리스트 형태로 받아오기\n",
    "pythonList = [ [random.randint(0,255) for _ in range(SIZE)] for _ in range(SIZE)]\n",
    "\n",
    "# 리스트를 출력하기\n",
    "for i in range(SIZE) : #행에 값 넣어주기\n",
    "    for k in range(SIZE) :  #열에 값 넣어주기\n",
    "        print(\"%3d\" % pythonList[i][k], end=' ')\n",
    "    print()\n",
    "# print()\n",
    "\n"
   ]
  },
  {
   "cell_type": "code",
   "execution_count": 31,
   "metadata": {
    "pycharm": {
     "name": "#%%\n"
    }
   },
   "outputs": [
    {
     "name": "stdout",
     "output_type": "stream",
     "text": [
      "214 340 326 304 127 \n",
      "161 284 272 233 140 \n",
      "355 329 228 240 234 \n",
      "118 231 184 309 159 \n",
      "322 301 104 299 236 \n"
     ]
    }
   ],
   "source": [
    "# 위에서 만든 2차원 리스트의 모든 값에 100 더하는 코드\n",
    "\n",
    "# 리스트에 100을 더하기\n",
    "for i in range(SIZE) :\n",
    "    for k in range(SIZE) :\n",
    "        pythonList[i][k] += 100\n",
    "\n",
    "## 리스트를 출력하기\n",
    "for i in range(SIZE) :\n",
    "    for k in range(SIZE) :\n",
    "        print(\"%3d\" % pythonList[i][k], end=' ')\n",
    "    print()\n"
   ]
  },
  {
   "cell_type": "code",
   "execution_count": 36,
   "metadata": {
    "pycharm": {
     "name": "#%%\n"
    }
   },
   "outputs": [
    {
     "name": "stdout",
     "output_type": "stream",
     "text": [
      "[[ 30 125 177  36  41]\n",
      " [ 42 163 177  15 165]\n",
      " [209 133 249 230 173]\n",
      " [180  26 158  20  72]\n",
      " [180  18 118  13  47]]\n",
      "\n",
      "[[130 225 277 136 141]\n",
      " [142 263 277 115 265]\n",
      " [309 233 349 330 273]\n",
      " [280 126 258 120 172]\n",
      " [280 118 218 113 147]]\n"
     ]
    }
   ],
   "source": [
    "import numpy as np\n",
    "\n",
    "## 넘파이 2차원 배열 생성\n",
    "SIZE = 5\n",
    "numpyAry = np.random.randint(0, 255, size=(SIZE, SIZE))\n",
    "\n",
    "## 배열을 출력하기\n",
    "print(numpyAry)\n",
    "print() #이건 띠어쓰기 용도인가..?\n",
    "\n",
    "## 배열에 100을 더하기\n",
    "numpyAry += 100\n",
    "\n",
    "## 배열을 출력하기\n",
    "print(numpyAry)\n"
   ]
  },
  {
   "cell_type": "code",
   "execution_count": 41,
   "metadata": {
    "pycharm": {
     "name": "#%%\n"
    }
   },
   "outputs": [
    {
     "name": "stdout",
     "output_type": "stream",
     "text": [
      "[[212 107 140]\n",
      " [  4 135 252]\n",
      " [157 233  74]]\n",
      "\n",
      "[[424 214 280]\n",
      " [  8 270 504]\n",
      " [314 466 148]]\n"
     ]
    },
    {
     "data": {
      "text/plain": [
       "292.0"
      ]
     },
     "execution_count": 41,
     "metadata": {},
     "output_type": "execute_result"
    }
   ],
   "source": [
    "Size = 3\n",
    "nummm = np.random.randint(0,255, size = (Size,Size))\n",
    "print(nummm)\n",
    "print()\n",
    "\n",
    "nummm *= 2\n",
    "print(nummm)\n",
    "\n",
    "nummm.mean()"
   ]
  },
  {
   "cell_type": "code",
   "execution_count": 1,
   "metadata": {
    "pycharm": {
     "name": "#%%\n"
    }
   },
   "outputs": [
    {
     "name": "stdout",
     "output_type": "stream",
     "text": [
      "* 파이썬 리스트 -->  [78, 151, 187, 33, 147]\n",
      "* array(pythonList) -->  [ 78 151 187  33 147]\n",
      "* arange(5) -->  [0 1 2 3 4]\n",
      "* arange(3, 8) -->  [3 4 5 6 7]\n",
      "* arange(0, 100, 20) -->  [ 0 20 40 60 80]\n"
     ]
    }
   ],
   "source": [
    "import numpy as np\n",
    "import random\n",
    "\n",
    "pythonList = [random.randint(0,255) for _ in range(5)]\n",
    "print('* 파이썬 리스트 --> ', pythonList)\n",
    "\n",
    "numpyAry1 = np.array(pythonList)\n",
    "print('* array(pythonList) --> ', numpyAry1)\n",
    "\n",
    "numpyAry2 = np.arange(5)\n",
    "print('* arange(5) --> ', numpyAry2)\n",
    "numpyAry3 = np.arange(3, 8)\n",
    "print('* arange(3, 8) --> ', numpyAry3)\n",
    "numpyAry3 = np.arange(0, 100, 20)\n",
    "print('* arange(0, 100, 20) --> ', numpyAry3)"
   ]
  },
  {
   "cell_type": "code",
   "execution_count": 4,
   "metadata": {
    "pycharm": {
     "name": "#%%\n"
    }
   },
   "outputs": [
    {
     "name": "stdout",
     "output_type": "stream",
     "text": [
      "* ones(5) --> \n",
      " [1. 1. 1. 1. 1.]\n",
      "* ones((3,4)) )--> \n",
      " [[1. 1. 1. 1.]\n",
      " [1. 1. 1. 1.]\n",
      " [1. 1. 1. 1.]]\n",
      "* zeros(5)-->  [0. 0. 0. 0. 0.]\n",
      "* empty(6)-->  [0. 0. 0. 0. 0. 0.]\n",
      "* full(5, 33) -->  [33 33 33 33 33]\n",
      "* full((3,5), 33) --> \n",
      " [[33 33 33 33 33]\n",
      " [33 33 33 33 33]\n",
      " [33 33 33 33 33]]\n",
      "* identity(5)--> \n",
      " [[1. 0. 0. 0. 0.]\n",
      " [0. 1. 0. 0. 0.]\n",
      " [0. 0. 1. 0. 0.]\n",
      " [0. 0. 0. 1. 0.]\n",
      " [0. 0. 0. 0. 1.]]\n"
     ]
    }
   ],
   "source": [
    "numpyAry4 = np.ones(5)\n",
    "print('* ones(5) --> \\n', numpyAry4)\n",
    "numpyAry5 = np.ones((3,4))\n",
    "print('* ones((3,4)) )--> \\n', numpyAry5)\n",
    "\n",
    "numpyAry6 = np.zeros(5)\n",
    "print('* zeros(5)--> ', numpyAry6)\n",
    "\n",
    "numpyAry7 = np.empty(6)\n",
    "print('* empty(6)--> ', numpyAry7)\n",
    "\n",
    "numpyAry8 = np.full(5, 33)\n",
    "print('* full(5, 33) --> ', numpyAry8)\n",
    "numpyAry10 = np.full((3,5), 33)\n",
    "print('* full((3,5), 33) --> \\n', numpyAry10)\n",
    "\n",
    "numpyAry9 = np.identity(5)\n",
    "print('* identity(5)--> \\n', numpyAry9)"
   ]
  },
  {
   "cell_type": "code",
   "execution_count": 6,
   "metadata": {
    "pycharm": {
     "name": "#%%\n"
    }
   },
   "outputs": [
    {
     "name": "stdout",
     "output_type": "stream",
     "text": [
      "[10 20 30 40] int32\n",
      "[10. 20. 30. 40.] float64\n",
      "[10. 20. 30. 40.] float32\n",
      "[0 1 2 3 4] int32\n",
      "[1. 1. 1. 1. 1.] float64\n",
      "[1 1 1 1 1] uint8\n",
      "[1. 1. 1. 1. 1.] float16\n"
     ]
    }
   ],
   "source": [
    "#이미 지정된 데이터 형식을 astype()함수로 변경할 수 있음\n",
    "import numpy as np\n",
    "import random\n",
    "\n",
    "pList1 = [10, 20, 30, 40]\n",
    "pList2 = [10, 20, 30, 40.0]\n",
    "\n",
    "numpyAry1 = np.array(pList1)\n",
    "print(numpyAry1, numpyAry1.dtype)\n",
    "\n",
    "numpyAry1 = np.array(pList2)\n",
    "print(numpyAry1, numpyAry1.dtype)\n",
    "\n",
    "numpyAry2 = np.array(pList1, dtype=np.float32)\n",
    "print(numpyAry2, numpyAry2.dtype)\n",
    "\n",
    "numpyAry3 = np.arange(5)\n",
    "print(numpyAry3, numpyAry3.dtype)\n",
    "\n",
    "numpyAry4 = np.ones(5)\n",
    "print(numpyAry4, numpyAry4.dtype)\n",
    "\n",
    "numpyAry5 = np.ones(5, dtype=np.uint8)\n",
    "print(numpyAry5, numpyAry5.dtype)\n",
    "\n",
    "numpyAry6 = numpyAry5.astype(np.float16)\n",
    "print(numpyAry6, numpyAry6.dtype)\n"
   ]
  },
  {
   "cell_type": "markdown",
   "metadata": {
    "pycharm": {
     "name": "#%% md\n"
    }
   },
   "source": [
    "ndim : 배열의 차원 수 또는 배열의 축 수\n",
    "shape : 배열 각 차원의 크기를 튜플 형태로\n",
    "size : 배열 원소의 개수\n",
    "dtype : 배열 내의 원소의 데이터형\n",
    "itemsize : 배열 내의 원소의 크기를 바이트 단위로 기술\n",
    "nbytes : 배열 전체 바이트"
   ]
  },
  {
   "cell_type": "code",
   "execution_count": 9,
   "metadata": {
    "pycharm": {
     "name": "#%%\n"
    }
   },
   "outputs": [
    {
     "name": "stdout",
     "output_type": "stream",
     "text": [
      "[1 2 3 4 5]\n",
      "ndim :  1\n",
      "shape: (5,)\n",
      "dtype: int32\n",
      "size: 5\n",
      "itemsize: 4\n",
      "nbytes: 20\n"
     ]
    }
   ],
   "source": [
    "arr = np.arange(1,6)\n",
    "print(arr)\n",
    "\n",
    "print('ndim : ', arr.ndim)\n",
    "print('shape:',arr.shape) \n",
    "print('dtype:',arr.dtype)\n",
    "print('size:',arr.size)\n",
    "print('itemsize:',arr.itemsize)\n",
    "print('nbytes:',arr.nbytes)\n"
   ]
  },
  {
   "cell_type": "code",
   "execution_count": 14,
   "metadata": {
    "pycharm": {
     "name": "#%%\n"
    }
   },
   "outputs": [
    {
     "name": "stdout",
     "output_type": "stream",
     "text": [
      "[[0 1 2]\n",
      " [3 4 5]\n",
      " [6 7 8]]\n",
      "ndim: 2\n",
      "shape: (3, 3)\n",
      "dtype: int32\n",
      "size: 9\n",
      "itemsize: 4\n",
      "nbytes: 36\n"
     ]
    }
   ],
   "source": [
    "arr = np.arange(9).reshape((3,3))\n",
    "print(arr)\n",
    "\n",
    "print('ndim:',arr.ndim)\n",
    "print('shape:',arr.shape) \n",
    "print('dtype:',arr.dtype)\n",
    "print('size:',arr.size)\n",
    "print('itemsize:',arr.itemsize)\n",
    "print('nbytes:',arr.nbytes)"
   ]
  },
  {
   "cell_type": "code",
   "execution_count": 17,
   "metadata": {
    "pycharm": {
     "name": "#%%\n"
    }
   },
   "outputs": [
    {
     "name": "stdout",
     "output_type": "stream",
     "text": [
      "[[ 97 226 121]\n",
      " [252  66 197]]\n",
      "[[ -3 126  21]\n",
      " [152 -34  97]]\n",
      "[[ -6 252  42]\n",
      " [304 -68 194]]\n"
     ]
    }
   ],
   "source": [
    "#산술연산과 브로드캐스팅\n",
    "# 원래 배열과 숫자는 연산이 될 수 없지만, 넘파이가 다음과 같이 숫자를 동일한 크기의 배열로 만든 후에 연산을 함\n",
    "\n",
    "\n",
    "import numpy as np\n",
    "ary = np.random.randint(0,255, size =(2,3))\n",
    "print(ary)\n",
    "ary = ary -100\n",
    "print(ary) \n",
    "ary = ary + ary\n",
    "print(ary)"
   ]
  },
  {
   "cell_type": "code",
   "execution_count": 19,
   "metadata": {
    "pycharm": {
     "name": "#%%\n"
    }
   },
   "outputs": [
    {
     "data": {
      "text/plain": [
       "array([[101, 202],\n",
       "       [103, 204]])"
      ]
     },
     "execution_count": 19,
     "metadata": {},
     "output_type": "execute_result"
    }
   ],
   "source": [
    "# 배열의 크키가 다른 경우의 연산\n",
    "import numpy as np\n",
    "\n",
    "ary1 = np.array([[1,2],[3,4]])\n",
    "ary2 = np.array([100,200])\n",
    "\n",
    "ary1+ ary2\n",
    "# 앞 배열의 크기 2×2에 맞춰서 뒤쪽 배열도 2×2 크기로 확장된 후 연산을 진행함\n"
   ]
  },
  {
   "cell_type": "code",
   "execution_count": 20,
   "metadata": {
    "pycharm": {
     "name": "#%%\n"
    }
   },
   "outputs": [
    {
     "name": "stdout",
     "output_type": "stream",
     "text": [
      "[0 1 2 3 4 5 6 7 8 9]\n",
      "[100   1   2   3   4   5   6   7   8   9]\n"
     ]
    }
   ],
   "source": [
    "# 넘파이에 값 수정하기\n",
    "\n",
    "ary = np.arange(10)\n",
    "print(ary)\n",
    "ary[0] = 100\n",
    "print(ary)"
   ]
  },
  {
   "cell_type": "code",
   "execution_count": 30,
   "metadata": {
    "pycharm": {
     "name": "#%%\n"
    }
   },
   "outputs": [
    {
     "name": "stdout",
     "output_type": "stream",
     "text": [
      "[0 1 2 3 4 5 6 7 8 9]\n",
      "[2 3 4]\n",
      "9\n",
      "8\n",
      "[100   1   2   3   4   5   6   7   8   9]\n"
     ]
    }
   ],
   "source": [
    "ary = np.arange(10)\n",
    "print(ary)\n",
    "ary[0]= 100\n",
    "print(ary[2:5])\n",
    "print(ary[-1])\n",
    "print(ary[-2])\n",
    "print(ary[:])"
   ]
  },
  {
   "cell_type": "code",
   "execution_count": 33,
   "metadata": {
    "pycharm": {
     "name": "#%%\n"
    }
   },
   "outputs": [
    {
     "name": "stdout",
     "output_type": "stream",
     "text": [
      "[100   1   2   3   4   5   6   7   8   9]\n",
      "[3 4 5 6]\n",
      "[77 77 77 77]\n"
     ]
    },
    {
     "data": {
      "text/plain": [
       "array([100,   1,   2,  77,  77,  77,  77,   7,   8,   9])"
      ]
     },
     "execution_count": 33,
     "metadata": {},
     "output_type": "execute_result"
    }
   ],
   "source": [
    "# 슬라이싱 방식으로 부분집합을 먼저 추출한 후 그 값을 변경하는 코드\n",
    "ary = np.arange(10)\n",
    "ary[0]= 100\n",
    "print(ary)\n",
    "ary_sub1 = ary[3:7]\n",
    "print(ary_sub1)\n",
    "ary_sub1[:]=77\n",
    "print(ary_sub1)\n",
    "ary"
   ]
  },
  {
   "cell_type": "code",
   "execution_count": 37,
   "metadata": {
    "pycharm": {
     "name": "#%%\n"
    }
   },
   "outputs": [
    {
     "name": "stdout",
     "output_type": "stream",
     "text": [
      "  1   2   3   4   5 \n",
      "  6   7   8   9  10 \n",
      " 11  12  13  14  15 \n",
      " 16  17  18  19  20 \n",
      " 21  22  23  24  25 \n",
      "---\n",
      "  7   8   9 \n",
      " 12  13  14 \n",
      " 17  18  19 \n",
      "\n"
     ]
    }
   ],
   "source": [
    "#넘파이 배열의 슬라이싱\n",
    "\n",
    "import random\n",
    "SIZE = 5    # 원본 크기\n",
    "startRow,startCol = 1, 1 # 새로운 리스트의 시작 위치\n",
    "nSIZE = 3   # 새로운 리스트의 크기\n",
    "\n",
    "## 파이썬 2차원 리스트 생성\n",
    "value = 1\n",
    "myList1 = []\n",
    "for _ in range(SIZE) :\n",
    "    tmpList= []\n",
    "    for _ in range(SIZE) :\n",
    "        tmpList.append(value)\n",
    "        value += 1\n",
    "    myList1.append(tmpList)\n",
    "\n",
    "## 파이썬 2차원 리스트의 출력\n",
    "for i in range(SIZE) :\n",
    "    [ print(\"%3d\" % myList1[i][k], end=' ') for k in range(SIZE) ]\n",
    "    print()\n",
    "\n",
    "\n",
    "## 파이썬 2차원 리스트의 슬라이싱\n",
    "myList2 = []\n",
    "for i in range(startRow, startRow+nSIZE) :\n",
    "    tmpList = []\n",
    "    for k in range(startCol, startCol+nSIZE) :\n",
    "        tmpList.append(myList1[i][k])\n",
    "    myList2.append(tmpList)\n",
    "print(\"---\")\n",
    "## 파이썬 2차원 리스트의 출력\n",
    "for i in range(nSIZE) :\n",
    "    [ print(\"%3d\" % myList2[i][k], end=' ') for k in range(nSIZE) ]\n",
    "    print()\n",
    "print()\n"
   ]
  },
  {
   "cell_type": "code",
   "execution_count": 43,
   "metadata": {
    "pycharm": {
     "name": "#%%\n"
    }
   },
   "outputs": [
    {
     "name": "stdout",
     "output_type": "stream",
     "text": [
      "[ 1  2  3  4  5  6  7  8  9 10 11 12 13 14 15 16 17 18 19 20 21 22 23 24\n",
      " 25]\n",
      "[[ 1  2  3  4  5]\n",
      " [ 6  7  8  9 10]\n",
      " [11 12 13 14 15]\n",
      " [16 17 18 19 20]\n",
      " [21 22 23 24 25]]\n",
      "[ 1  2  3  4  5  6  7  8  9 10 11 12 13 14 15 16 17 18 19 20 21 22 23 24\n",
      " 25]\n"
     ]
    }
   ],
   "source": [
    "ary = np.arange(1,26,1)\n",
    "print(ary)\n",
    "ary = ary.reshape(5,5)\n",
    "print(ary)\n",
    "ary = ary.reshape(25) #1차원배열로 변환\n",
    "print(ary)"
   ]
  },
  {
   "cell_type": "code",
   "execution_count": 59,
   "metadata": {
    "pycharm": {
     "name": "#%%\n"
    }
   },
   "outputs": [
    {
     "name": "stdout",
     "output_type": "stream",
     "text": [
      "[[ 1  2  3  4]\n",
      " [ 5  6  7  8]\n",
      " [ 9 10 11 12]\n",
      " [13 14 15 16]]\n",
      "[5 6 7 8]\n",
      "[5 6 7 8]\n",
      "[5 6 7 8]\n",
      "[[ 9 10 11 12]\n",
      " [13 14 15 16]]\n",
      "[[ 9 10 11 12]\n",
      " [13 14 15 16]]\n",
      "[[ 9 10 11 12]\n",
      " [13 14 15 16]]\n",
      "[ 2  6 10 14]\n",
      "[ 2  6 10 14]\n",
      "[[ 1  2]\n",
      " [ 5  6]\n",
      " [ 9 10]\n",
      " [13 14]]\n",
      "[[ 6  7]\n",
      " [10 11]]\n",
      "[[ 5  6  7  8]\n",
      " [13 14 15 16]]\n",
      "[[ 2  4]\n",
      " [ 6  8]\n",
      " [10 12]\n",
      " [14 16]]\n"
     ]
    }
   ],
   "source": [
    "#2차원 넘파이 배열의 슬라이싱\n",
    "\n",
    "#간단히 4x4 크기의 배열을 준비\n",
    "ary = np.arange(1,17)\n",
    "ary = ary.reshape(4,4)\n",
    "print(ary)\n",
    "\n",
    "#한개의 행 추출\n",
    "print(ary[1])\n",
    "print(ary[1, 0 :4])\n",
    "print(ary[1, :])\n",
    "\n",
    "#인접한 여러행 추출\n",
    "print(ary[2:]) #3행,4행 추출\n",
    "print(ary[2:4])\n",
    "print(ary[2:4, :])\n",
    "\n",
    "#한개의 열 추출\n",
    "print(ary[:,1])\n",
    "# print(ary[,1]) 이건 안됨용\n",
    "print(ary[0:4, 1])\n",
    "\n",
    "#인접한 여러열 추출\n",
    "print(ary[:, 0:2])\n",
    "\n",
    "#중간부분 추출\n",
    "print(ary[1:3, 1:3])\n",
    "\n",
    "#인접하지 않은 여러행 혹은 여러열 추출\n",
    "print(ary[[1,3]])\n",
    "print(ary[:, [1,3]])"
   ]
  },
  {
   "cell_type": "code",
   "execution_count": 68,
   "metadata": {
    "pycharm": {
     "name": "#%%\n"
    }
   },
   "outputs": [
    {
     "name": "stdout",
     "output_type": "stream",
     "text": [
      "[[0. 0.]\n",
      " [0. 0.]\n",
      " [1. 1.]\n",
      " [1. 1.]]\n",
      "[[0. 0. 1. 1.]\n",
      " [0. 0. 1. 1.]]\n",
      "[[0. 0. 1. 1.]\n",
      " [0. 0. 1. 1.]]\n",
      "[[0. 0.]\n",
      " [0. 0.]\n",
      " [1. 1.]\n",
      " [1. 1.]]\n"
     ]
    }
   ],
   "source": [
    "#2차원 넘파이 배열 연결 및 축 전환\n",
    "ary1=np.zeros((2,2))\n",
    "ary2=np.ones((2,2))\n",
    "ary3 = np.concatenate((ary1, ary2), axis=0) # 행방향으로 추가\n",
    "ary4= np.concatenate((ary1, ary2), axis=1) # 열방향으로 추가\n",
    "print(ary3)\n",
    "print(ary4)\n",
    "\n",
    "#넘파이 배열의 행과 열을 바꾸려면 transpose(1,0) 또는 T 속성을 사용\n",
    "print(ary3.transpose(1,0))\n",
    "print(ary4.T)"
   ]
  },
  {
   "cell_type": "code",
   "execution_count": 67,
   "metadata": {
    "pycharm": {
     "name": "#%%\n"
    }
   },
   "outputs": [],
   "source": [
    "import numpy as np\n",
    "SIZE = 5    # 원본 크기\n",
    "startRow,startCol = 1, 1 # 새로운 리스트의 시작 위치\n",
    "nSIZE = 3   # 새로운 리스트의 크기\n",
    "\n",
    "## 넘파이 2차원 배열 생성\n",
    "value = 1\n",
    "myAry1 = np.arange(value, value+(SIZE*SIZE), 1)\n",
    "myAry1 = myAry1.reshape(SIZE, SIZE)\n",
    "\n",
    "## 넘파이 2차원 배열 리스트의 출력\n",
    "# ~~ Code10-05.py의 17~20행과 동일. 단 myAry1을 출력. ~~\n",
    "\n",
    "## 넘파이 2차원 배열의 슬라이싱\n",
    "myAry2 = myAry1[startRow:startRow+nSIZE, startCol: startCol+nSIZE].copy()\n",
    "\n",
    "## 넘파이 2차원 배열의 출력\n",
    "# ~~ Code10-05.py의 31~34행과 동일. 단 myAry2를 출력. ~~\n"
   ]
  },
  {
   "cell_type": "code",
   "execution_count": 70,
   "metadata": {
    "pycharm": {
     "name": "#%%\n"
    }
   },
   "outputs": [
    {
     "name": "stdout",
     "output_type": "stream",
     "text": [
      "[[-1 -2]\n",
      " [ 3  4]]\n",
      "[[1 2]\n",
      " [3 4]]\n",
      "[[-1 -1]\n",
      " [ 1  1]]\n",
      "[[       nan        nan]\n",
      " [1.73205081 2.        ]]\n"
     ]
    },
    {
     "name": "stderr",
     "output_type": "stream",
     "text": [
      "C:\\Users\\codka\\AppData\\Local\\Temp/ipykernel_18392/817764902.py:9: RuntimeWarning: invalid value encountered in sqrt\n",
      "  print(np.sqrt(ary)) #제곱근\n"
     ]
    }
   ],
   "source": [
    "#단항 수식 함수\n",
    "# np.abs()는 모두 양수를 반환하고, sign()의 경우 양수는 0을, 음수는 1을 반환 \n",
    "# np.sqrt()는 루트값을 반환하는데, 음수의 루트값은 nan(Not a Number)로 표시됨\n",
    "\n",
    "ary = np.array([[-1, -2], [3,4]])\n",
    "print(ary)\n",
    "print(np.abs(ary)) # 절댓값\n",
    "print(np.sign(ary)) # 부호판별\n",
    "print(np.sqrt(ary)) #제곱근\n",
    "\n"
   ]
  },
  {
   "cell_type": "code",
   "execution_count": 72,
   "metadata": {
    "pycharm": {
     "name": "#%%\n"
    }
   },
   "outputs": [
    {
     "name": "stdout",
     "output_type": "stream",
     "text": [
      "[2 2]\n",
      "[2 2]\n"
     ]
    }
   ],
   "source": [
    "#이항 수식 함수\n",
    "#더하기(add), 빼기(subtract), 곱하기(multiply) 등이 가능함\n",
    "#np.maximum(배열1, 배열2)는 두 배열 중 큰 값만 추출해서 새 배열을 반환\n",
    "#np.greater(배열1, 배열2)는 ‘배열1＞배열2’이 경우엔 True, 그렇지 않으면 False로 구성된 새 배열을 반환\n",
    "\n",
    "ary = np.array([-1, -2])\n",
    "ary1 = np.array([3,4])\n",
    "print(np.add(ary,ary1))\n",
    "print(ary+ary1)\n",
    "#59페이지까지 공부함\n"
   ]
  },
  {
   "cell_type": "code",
   "execution_count": 8,
   "metadata": {
    "pycharm": {
     "name": "#%%\n"
    }
   },
   "outputs": [
    {
     "name": "stdout",
     "output_type": "stream",
     "text": [
      "[[190  11 176]\n",
      " [120 100 248]\n",
      " [194  45 180]]\n",
      "[[0 1 0]\n",
      " [0 0 0]\n",
      " [0 1 0]]\n"
     ]
    }
   ],
   "source": [
    "import numpy as np\n",
    "# np.where( 조건 ,  참일때,  거짓일때 )\n",
    "ary = np.random.randint(0,255, size =(3,3))\n",
    "print(ary)\n",
    "print(np.where(ary<100, 1, 0))"
   ]
  },
  {
   "cell_type": "code",
   "execution_count": 12,
   "outputs": [
    {
     "name": "stdout",
     "output_type": "stream",
     "text": [
      "[246  42   2 238 129 140 254  56   2 203]\n",
      "1312\n",
      "131.2\n",
      "[[  2 230 171]\n",
      " [238  22 231]\n",
      " [104 221  30]]\n",
      "1249\n",
      "[344 473 432]\n",
      "[403 491 355]\n"
     ]
    }
   ],
   "source": [
    "# 통계함수\n",
    "ary1=np.random.randint(0,255, size =10)\n",
    "print(ary1)\n",
    "print(ary1.sum())\n",
    "print(ary1.mean())\n",
    "ary2=np.random.randint(0,255, size=(3,3))\n",
    "print(ary2)\n",
    "print(ary2.sum())\n",
    "print(ary2.sum(axis=0))  #세로합 구하기(열합)\n",
    "print(ary2.sum(axis=1))  #가로합 구하기(행합)\n"
   ],
   "metadata": {
    "collapsed": false,
    "pycharm": {
     "name": "#%%\n"
    }
   }
  },
  {
   "cell_type": "code",
   "execution_count": 14,
   "outputs": [
    {
     "name": "stdout",
     "output_type": "stream",
     "text": [
      "[[197  46  50]\n",
      " [192 178  40]\n",
      " [138 223  73]]\n"
     ]
    },
    {
     "data": {
      "text/plain": "5"
     },
     "execution_count": 14,
     "metadata": {},
     "output_type": "execute_result"
    }
   ],
   "source": [
    "ary2=np.random.randint(0,255, size=(3,3))\n",
    "print(ary2)\n",
    "#128 이상인 항목의 개수를 세는 코드\n",
    "(ary2>128).sum()"
   ],
   "metadata": {
    "collapsed": false,
    "pycharm": {
     "name": "#%%\n"
    }
   }
  },
  {
   "cell_type": "code",
   "execution_count": 16,
   "outputs": [
    {
     "name": "stdout",
     "output_type": "stream",
     "text": [
      "[[116 107   5]\n",
      " [ 58  69  44]\n",
      " [ 39 225  23]]\n",
      "5\n",
      "225\n"
     ]
    }
   ],
   "source": [
    "ary2=np.random.randint(0,255, size=(3,3))\n",
    "print(ary2)\n",
    "print(ary2.min())\n",
    "print(ary2.max())\n"
   ],
   "metadata": {
    "collapsed": false,
    "pycharm": {
     "name": "#%%\n"
    }
   }
  },
  {
   "cell_type": "code",
   "execution_count": 20,
   "outputs": [
    {
     "name": "stdout",
     "output_type": "stream",
     "text": [
      "[ 41  48 120 147  10  63  59 204 227 206]\n",
      "[ 10  41  48  59  63 120 147 204 206 227]\n",
      "[227 206 204 147 120  63  59  48  41  10]\n"
     ]
    }
   ],
   "source": [
    "ary1=np.random.randint(0,255, size=10)\n",
    "print(ary1)\n",
    "#np.sort() 함수는 배열을 정렬\n",
    "print(np.sort(ary1))  #오름차순\n",
    "print(np.sort(ary1)[::-1]) #내림차순"
   ],
   "metadata": {
    "collapsed": false,
    "pycharm": {
     "name": "#%%\n"
    }
   }
  },
  {
   "cell_type": "code",
   "execution_count": 22,
   "outputs": [
    {
     "name": "stdout",
     "output_type": "stream",
     "text": [
      "[7 8 3 6 8 2 3 4 8 8]\n",
      "[2 3 4 6 7 8]\n"
     ]
    }
   ],
   "source": [
    "#중복된 값을 제거하고 하나씩만 남기려면 np.unique() 함수를 사용\n",
    "ary1=np.random.randint(0,9, size=10)\n",
    "print(ary1)\n",
    "print(np.unique(ary1))"
   ],
   "metadata": {
    "collapsed": false,
    "pycharm": {
     "name": "#%%\n"
    }
   }
  },
  {
   "cell_type": "code",
   "execution_count": 25,
   "outputs": [
    {
     "name": "stdout",
     "output_type": "stream",
     "text": [
      "[2 0 7 4 8 8 2 6 3 1]\n",
      "[8 4 8 8 6 4 4 8 1 0]\n",
      "[0 1 4 6 8]\n"
     ]
    }
   ],
   "source": [
    "#두 배열 중에서 공통된 항목만 추출하려면 np.intersect1d(배열1, 배열2) 함수를 사용\n",
    "ary1=np.random.randint(0,9, size=10)\n",
    "print(ary1)\n",
    "ary2=np.random.randint(0,9,size=10)\n",
    "print(ary2)\n",
    "print(np.intersect1d(ary1, ary2))"
   ],
   "metadata": {
    "collapsed": false,
    "pycharm": {
     "name": "#%%\n"
    }
   }
  },
  {
   "cell_type": "markdown",
   "source": [
    "배열 조희"
   ],
   "metadata": {
    "collapsed": false,
    "pycharm": {
     "name": "#%% md\n"
    }
   }
  },
  {
   "cell_type": "code",
   "execution_count": 32,
   "outputs": [
    {
     "name": "stdout",
     "output_type": "stream",
     "text": [
      "[0 1 2 3 4 5 6 7 8]\n",
      "2 8\n"
     ]
    }
   ],
   "source": [
    "# 인덱스 요소 참조\n",
    "arr1=np.arange(9)\n",
    "print(arr1)\n",
    "print(arr1[2], arr1[-1])"
   ],
   "metadata": {
    "collapsed": false,
    "pycharm": {
     "name": "#%%\n"
    }
   }
  },
  {
   "cell_type": "code",
   "execution_count": 40,
   "outputs": [
    {
     "name": "stdout",
     "output_type": "stream",
     "text": [
      "[[1 2 3]\n",
      " [4 5 6]\n",
      " [7 8 9]]\n",
      "2\n",
      "[[0 1 2]\n",
      " [3 4 5]\n",
      " [6 7 8]]\n",
      "[0 1 2]\n"
     ]
    }
   ],
   "source": [
    "list2 = [[1,2,3], [4,5,6], [7,8,9]]\n",
    "arr2 = np.array(list2)\n",
    "print(arr2)\n",
    "print(arr2[0,1])\n",
    "arr3 = np.arange(9).reshape((3,3))\n",
    "print(arr3)\n",
    "print(arr3[0])"
   ],
   "metadata": {
    "collapsed": false,
    "pycharm": {
     "name": "#%%\n"
    }
   }
  },
  {
   "cell_type": "code",
   "execution_count": 50,
   "outputs": [
    {
     "name": "stdout",
     "output_type": "stream",
     "text": [
      "[13 54 20 29 46 48 19]\n",
      "[13 54 20]\n",
      "[13 54 20 29 46 48 19]\n",
      "[20 29 46 48]\n",
      "[13 20 46 19]\n",
      "[13 29 19]\n"
     ]
    }
   ],
   "source": [
    "#여러 개의 배열 요소 참조할때 범위 지정 - 슬라이싱\n",
    "# [from_index : to_index] 여기서 to_index는 포함되지 않는다.\n",
    "arr = np.random.randint(1,55, 7)\n",
    "print(arr)\n",
    "print(arr[0:3])\n",
    "print(arr[:])\n",
    "print(arr[2:6])\n",
    "\n",
    "print(arr[::2]) #두칸씩 띠어서 처음부터 끝까지 출력\n",
    "print(arr[::3])"
   ],
   "metadata": {
    "collapsed": false,
    "pycharm": {
     "name": "#%%\n"
    }
   }
  },
  {
   "cell_type": "code",
   "execution_count": 55,
   "outputs": [
    {
     "name": "stdout",
     "output_type": "stream",
     "text": [
      "[[ 1  2  3  4  5  6]\n",
      " [ 7  8  9 10 11 12]\n",
      " [13 14 15 16 17 18]\n",
      " [19 20 21 22 23 24]]\n",
      "[ 7  8  9 10 11 12]\n",
      "[[ 8  9 10 11]\n",
      " [14 15 16 17]]\n",
      "[[ 1  2  3]\n",
      " [ 7  8  9]\n",
      " [13 14 15]]\n",
      "[18 17 16 15 14 13]\n",
      "[[9 8 7]\n",
      " [6 5 4]\n",
      " [3 2 1]]\n"
     ]
    }
   ],
   "source": [
    "arr=np.arange(1,25).reshape(4,6)\n",
    "print(arr)\n",
    "print(arr[1])\n",
    "print(arr[1:3, 1:5]) #1,2행/1,4열\n",
    "print(arr[:3,:3])\n",
    "print(arr[2,::-1]) # ::-1은 거꾸로..\n",
    "print(arr2[::-1,::-1])"
   ],
   "metadata": {
    "collapsed": false,
    "pycharm": {
     "name": "#%%\n"
    }
   }
  },
  {
   "cell_type": "code",
   "execution_count": 57,
   "outputs": [
    {
     "name": "stdout",
     "output_type": "stream",
     "text": [
      "[1 2 3 4 5]\n",
      "[2 4]\n",
      "[1 2]\n"
     ]
    }
   ],
   "source": [
    "a=np.arange(1,6)\n",
    "print(a)\n",
    "even = a%2 ==0\n",
    "print(a[even])\n",
    "print(a[a<3])\n"
   ],
   "metadata": {
    "collapsed": false,
    "pycharm": {
     "name": "#%%\n"
    }
   }
  },
  {
   "cell_type": "code",
   "execution_count": 63,
   "outputs": [
    {
     "name": "stdout",
     "output_type": "stream",
     "text": [
      "[[1 2 3]\n",
      " [4 5 6]\n",
      " [7 8 9]]\n",
      "45\n",
      "45\n",
      "[12 15 18]\n",
      "[ 6 15 24]\n"
     ]
    }
   ],
   "source": [
    "#축(axis) \"집계연산\"\n",
    "# axis=None  :  전체 행렬로 정의\n",
    "# axis=0        :  행을 기준으로  (같은 반끼리 계산)\n",
    "# axis=1        :  열을 기준으로  (같은 학년끼리 계산)\n",
    "a=np.arange(1,10).reshape(3,3)\n",
    "print(a)\n",
    "print(a.sum())\n",
    "print(np.sum(a))\n",
    "b=a.sum(axis=0)\n",
    "c=a.sum(axis=1)\n",
    "print(b)\n",
    "print(c)"
   ],
   "metadata": {
    "collapsed": false,
    "pycharm": {
     "name": "#%%\n"
    }
   }
  },
  {
   "cell_type": "code",
   "execution_count": 66,
   "outputs": [
    {
     "name": "stdout",
     "output_type": "stream",
     "text": [
      "[[1 2 3 4]\n",
      " [5 6 7 8]]\n",
      "[[1 5]\n",
      " [2 6]\n",
      " [3 7]\n",
      " [4 8]]\n"
     ]
    }
   ],
   "source": [
    "a=np.arange(1,9).reshape(2,4)\n",
    "print(a)\n",
    "print(a.T)"
   ],
   "metadata": {
    "collapsed": false,
    "pycharm": {
     "name": "#%%\n"
    }
   }
  }
 ],
 "metadata": {
  "kernelspec": {
   "display_name": "Python 3.9.7 ('base')",
   "language": "python",
   "name": "python3"
  },
  "language_info": {
   "codemirror_mode": {
    "name": "ipython",
    "version": 3
   },
   "file_extension": ".py",
   "mimetype": "text/x-python",
   "name": "python",
   "nbconvert_exporter": "python",
   "pygments_lexer": "ipython3",
   "version": "3.9.7"
  },
  "orig_nbformat": 4,
  "vscode": {
   "interpreter": {
    "hash": "d1b453b87840e9c08cab7728d02e20caedc1c985ce56a033dc48b15b9411b6a9"
   }
  }
 },
 "nbformat": 4,
 "nbformat_minor": 2
}