{
 "cells": [
  {
   "cell_type": "markdown",
   "id": "eb016fde",
   "metadata": {
    "pycharm": {
     "name": "#%% md\n"
    }
   },
   "source": [
    "# 중간고사  테스트 용\n",
    "### 코드 작성 후,  레포트로 제출하세요.\n",
    "######  파일이름은 본인의 이름과 학번으로 정한다. *********** 안계현_123456.ipynb"
   ]
  },
  {
   "cell_type": "markdown",
   "id": "b838aa1f",
   "metadata": {
    "pycharm": {
     "name": "#%% md\n"
    }
   },
   "source": [
    "##### 모든 과정에서  오류없이  동작하는 지, 잘 체크할 수 있어야 합니다."
   ]
  },
  {
   "cell_type": "markdown",
   "id": "212a43ac",
   "metadata": {
    "pycharm": {
     "name": "#%% md\n"
    }
   },
   "source": [
    "# 문제 1"
   ]
  },
  {
   "attachments": {},
   "cell_type": "markdown",
   "id": "1d10089a",
   "metadata": {
    "pycharm": {
     "name": "#%% md\n"
    }
   },
   "source": [
    "######  실행 창 화면  \n",
    "이름 : 안계현   \n",
    "Input 1st number : 3       <-- 키보드로 3 입력             \n",
    "Input 2nd number : 5       <-- 키보드로 5 입력    \n",
    "3 + 5 = 8    \n",
    "3 - 5 = -2"
   ]
  },
  {
   "cell_type": "code",
   "execution_count": 50,
   "id": "560955b3",
   "metadata": {
    "pycharm": {
     "name": "#%%\n"
    }
   },
   "outputs": [
    {
     "name": "stdout",
     "output_type": "stream",
     "text": [
      "이름 : 김솔아\n",
      "3 + 5 = 8\n",
      "3 - 5 = -2\n"
     ]
    }
   ],
   "source": [
    "# 문제 1.  위와 같이 실행하는 프로그램 코드를 작성하시오.\n",
    "print(\"이름 : 김솔아\")\n",
    "a =int(input(\"Input 1st number : \"))\n",
    "# print(int(input(\"Input 1st number : \")))\n",
    "\n",
    "# print(int(input(\"Input 2nd number : \")))\n",
    "b= int(input(\"Input 2nd number : \"))\n",
    "\n",
    "print(f\"{a} + {b} = {a+b}\")\n",
    "print(f\"{a} - {b} = {a-b}\")"
   ]
  },
  {
   "attachments": {},
   "cell_type": "markdown",
   "id": "7989a6da",
   "metadata": {
    "pycharm": {
     "name": "#%% md\n"
    }
   },
   "source": [
    "\n",
    "## 제공하는 mid_data01.csv 파일을 다운로드 받은 후, 문제 2와 문제3을 풀이하시오."
   ]
  },
  {
   "cell_type": "markdown",
   "id": "67814ead",
   "metadata": {
    "pycharm": {
     "name": "#%% md\n"
    }
   },
   "source": [
    "# 문제 2"
   ]
  },
  {
   "cell_type": "code",
   "execution_count": 16,
   "id": "31b367fd",
   "metadata": {
    "pycharm": {
     "name": "#%%\n"
    }
   },
   "outputs": [],
   "source": [
    "# 다음 기능을 수행하는 프로그램 코드를 작성하시오.\n",
    "# (1) 판다스를 이용하여  csv 파일로부터 데이터를 읽어와서 df_02 이름으로 저장한다.\n",
    "# (2) df_02의 전체 구조를 출력한다.\n",
    "# (3) 결측치가 있는 컬럼의 개수가 몇 개인지 출력한다.\n",
    "# ----- 출력하는 형식, 이용하는 Cell의 개수는 자유롭다."
   ]
  },
  {
   "cell_type": "code",
   "execution_count": 51,
   "outputs": [],
   "source": [
    "import pandas as pd\n",
    "import numpy as np\n",
    "\n",
    "df = pd.read_csv(\"mid_data01.csv\")\n",
    "\n",
    "# (1)번\n",
    "df.to_csv(\"../so1/df_02.csv\")"
   ],
   "metadata": {
    "collapsed": false,
    "pycharm": {
     "name": "#%%\n"
    }
   }
  },
  {
   "cell_type": "code",
   "execution_count": 52,
   "outputs": [
    {
     "name": "stdout",
     "output_type": "stream",
     "text": [
      "<class 'pandas.core.frame.DataFrame'>\n",
      "RangeIndex: 11162 entries, 0 to 11161\n",
      "Data columns (total 17 columns):\n",
      " #   Column     Non-Null Count  Dtype \n",
      "---  ------     --------------  ----- \n",
      " 0   age        11162 non-null  int64 \n",
      " 1   job        11162 non-null  object\n",
      " 2   marital    11162 non-null  object\n",
      " 3   education  11162 non-null  object\n",
      " 4   default    11162 non-null  object\n",
      " 5   balance    11162 non-null  int64 \n",
      " 6   housing    11162 non-null  object\n",
      " 7   loan       11162 non-null  object\n",
      " 8   contact    11162 non-null  object\n",
      " 9   day        11162 non-null  int64 \n",
      " 10  month      11162 non-null  object\n",
      " 11  duration   11162 non-null  int64 \n",
      " 12  campaign   11162 non-null  int64 \n",
      " 13  pdays      11162 non-null  int64 \n",
      " 14  previous   11162 non-null  int64 \n",
      " 15  poutcome   11162 non-null  object\n",
      " 16  deposit    11162 non-null  object\n",
      "dtypes: int64(7), object(10)\n",
      "memory usage: 1.4+ MB\n"
     ]
    }
   ],
   "source": [
    "# (2)번\n",
    "df.info()"
   ],
   "metadata": {
    "collapsed": false,
    "pycharm": {
     "name": "#%%\n"
    }
   }
  },
  {
   "cell_type": "code",
   "execution_count": 57,
   "outputs": [
    {
     "data": {
      "text/plain": "age          0\njob          0\nmarital      0\neducation    0\ndefault      0\nbalance      0\nhousing      0\nloan         0\ncontact      0\nday          0\nmonth        0\nduration     0\ncampaign     0\npdays        0\nprevious     0\npoutcome     0\ndeposit      0\ndtype: int64"
     },
     "execution_count": 57,
     "metadata": {},
     "output_type": "execute_result"
    }
   ],
   "source": [
    "# (3)번\n",
    "df.isnull().sum()"
   ],
   "metadata": {
    "collapsed": false,
    "pycharm": {
     "name": "#%%\n"
    }
   }
  },
  {
   "cell_type": "markdown",
   "id": "dac2a006",
   "metadata": {
    "pycharm": {
     "name": "#%% md\n"
    }
   },
   "source": [
    "# 문제 3"
   ]
  },
  {
   "cell_type": "code",
   "execution_count": 17,
   "id": "a6ff9d22",
   "metadata": {
    "pycharm": {
     "name": "#%%\n"
    }
   },
   "outputs": [],
   "source": [
    "# balance가 가장 많은 계좌의 데이터들을 추출한다.\n",
    "# 추출한 데이터들을 새로운 이름의 데이터프레임으로 저장하고, 출력한다.\n",
    "# ----- 새로 만드는 데이터프레임의 이름은 자유롭게() 정한다.  단,  vip 이름은 사용하지 않는다."
   ]
  },
  {
   "cell_type": "code",
   "execution_count": 49,
   "outputs": [
    {
     "name": "stdout",
     "output_type": "stream",
     "text": [
      "      age      job  marital  education default  balance housing loan  \\\n",
      "3043   84  retired  married  secondary      no    81204      no   no   \n",
      "3380   84  retired  married  secondary      no    81204      no   no   \n",
      "\n",
      "        contact  day month  duration  campaign  pdays  previous poutcome  \\\n",
      "3043  telephone   28   dec       679         1    313         2    other   \n",
      "3380  telephone    1   apr       390         1     94         3  success   \n",
      "\n",
      "     deposit  \n",
      "3043     yes  \n",
      "3380     yes  \n"
     ]
    }
   ],
   "source": [
    "df = pd.read_csv(\"mid_data01.csv\")\n",
    "\n",
    "# df.head()\n",
    "df\n",
    "\n",
    "rich = df[\"balance\"] == df[\"balance\"].max()\n",
    "print(df[rich])\n",
    "\n",
    "aa = df[rich]\n",
    "aa.to_csv(\"../so1/rich.csv\", index=False)\n"
   ],
   "metadata": {
    "collapsed": false,
    "pycharm": {
     "name": "#%%\n"
    }
   }
  },
  {
   "cell_type": "markdown",
   "id": "27cf83bb",
   "metadata": {
    "pycharm": {
     "name": "#%% md\n"
    }
   },
   "source": [
    "# 중간고사 테스트 끝~~~\n",
    "## 작성한 파일을 저장한다.\n",
    "## LMS의 8주차  레포트(중간고사 테스트용)로 제출한다.\n",
    "### 제출을 잘 했는지,  스스로 체크(확인)할 수 있어야 한다."
   ]
  }
 ],
 "metadata": {
  "kernelspec": {
   "display_name": "Python 3 (ipykernel)",
   "language": "python",
   "name": "python3"
  },
  "language_info": {
   "codemirror_mode": {
    "name": "ipython",
    "version": 3
   },
   "file_extension": ".py",
   "mimetype": "text/x-python",
   "name": "python",
   "nbconvert_exporter": "python",
   "pygments_lexer": "ipython3",
   "version": "3.9.13"
  }
 },
 "nbformat": 4,
 "nbformat_minor": 5
}