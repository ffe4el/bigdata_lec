{
 "cells": [
  {
   "cell_type": "code",
   "execution_count": 3,
   "metadata": {
    "collapsed": true,
    "pycharm": {
     "name": "#%%\n"
    }
   },
   "outputs": [],
   "source": [
    "import numpy as np\n",
    "import matplotlib.pyplot as plt"
   ]
  },
  {
   "cell_type": "code",
   "execution_count": 6,
   "outputs": [],
   "source": [],
   "metadata": {
    "collapsed": false,
    "pycharm": {
     "name": "#%%\n"
    }
   }
  },
  {
   "cell_type": "code",
   "execution_count": 22,
   "outputs": [
    {
     "name": "stdout",
     "output_type": "stream",
     "text": [
      "epoch = 0, 기울기 = 27.84, 절편 = 5.43\n",
      "epoch = 100, 기울기 = 7.073858435872394, 절편 = 50.51166161138297\n",
      "epoch = 200, 기울기 = 4.095999380762421, 절편 = 68.28224379060177\n",
      "epoch = 300, 기울기 = 2.9756829100119027, 절편 = 74.96781336233505\n",
      "epoch = 400, 기울기 = 2.5542024233262106, 절편 = 77.48302865233052\n",
      "epoch = 500, 기울기 = 2.3956349066513707, 절편 = 78.42929177728175\n",
      "epoch = 600, 기울기 = 2.3359793398132864, 절편 = 78.78529068727728\n",
      "epoch = 700, 기울기 = 2.313535987420573, 절편 = 78.91922301600925\n",
      "epoch = 800, 기울기 = 2.3050924490666174, 절편 = 78.96961044185792\n",
      "epoch = 900, 기울기 = 2.3019158585694823, 절편 = 78.98856697541248\n",
      "epoch = 1000, 기울기 = 2.3007207758016315, 절편 = 78.99569871827002\n",
      "epoch = 1100, 기울기 = 2.300271167070735, 절편 = 78.99838179089187\n",
      "epoch = 1200, 기울기 = 2.3001020172709508, 절편 = 78.9993912045567\n",
      "epoch = 1300, 기울기 = 2.300038380484562, 절편 = 78.99977096168232\n",
      "epoch = 1400, 기울기 = 2.3000144393354365, 절편 = 78.9999138322214\n",
      "epoch = 1500, 기울기 = 2.3000054323026444, 절편 = 78.99996758234106\n",
      "epoch = 1600, 기울기 = 2.300002043716771, 절편 = 78.99998780397235\n",
      "epoch = 1700, 기울기 = 2.3000007688780433, 절편 = 78.99999541166466\n",
      "epoch = 1800, 기울기 = 2.300000289263884, 절편 = 78.99999827379686\n",
      "epoch = 1900, 기울기 = 2.3000001088255795, 절편 = 78.9999993505755\n",
      "epoch = 2000, 기울기 = 2.3000000409418653, 절편 = 78.99999975567644\n"
     ]
    },
    {
     "data": {
      "text/plain": "<Figure size 432x288 with 1 Axes>",
      "image/png": "[encoded data removed]"
     },
     "metadata": {},
     "output_type": "display_data"
    }
   ],
   "source": [
    "x = np.array([2,4,6,8])\n",
    "y = np.array([81,93,91,97])\n",
    "\n",
    "a = 0\n",
    "b = 0\n",
    "\n",
    "#학습률 설정\n",
    "lr = 0.03\n",
    "\n",
    "#반복 횟수 설정\n",
    "epochs = 2001\n",
    "\n",
    "n=len(x) #값 개수\n",
    "\n",
    "#경사하강법\n",
    "for i in range(epochs):\n",
    "    y_pred = a*x + b\n",
    "    error = y-y_pred  #실제 값과 비교한 오차값 설정\n",
    "\n",
    "    a_diff = (2/n)*sum(-x*(error)) #a로 편미분한 값\n",
    "    b_diff = (2/n)*sum(-(error))\n",
    "\n",
    "    a=a-lr*a_diff  #학습률을 곱해 기존의 a 값을 업데이트한다.\n",
    "    b=b-lr*b_diff\n",
    "\n",
    "    if i%100 ==0: #100번 반복될 때마다 현재의 a값과 b값을 출력함\n",
    "        print(\"epoch = {}, 기울기 = {}, 절편 = {}\" .format(i, a, b))\n",
    "\n",
    "y_pred = a*x +b\n",
    "\n",
    "plt.scatter(x,y)\n",
    "plt.plot(x, y_pred, 'r')\n",
    "plt.show()\n"
   ],
   "metadata": {
    "collapsed": false,
    "pycharm": {
     "name": "#%%\n"
    }
   }
  },
  {
   "cell_type": "markdown",
   "source": [
    "## 사이킷런으로 선형 회귀 모델을 작성해보자.\n",
    "내부적으로 경사하강법을 이용함"
   ],
   "metadata": {
    "collapsed": false,
    "pycharm": {
     "name": "#%% md\n"
    }
   }
  },
  {
   "cell_type": "code",
   "execution_count": 13,
   "outputs": [],
   "source": [
    "import pandas as pd\n",
    "from sklearn.linear_model import LinearRegression"
   ],
   "metadata": {
    "collapsed": false,
    "pycharm": {
     "name": "#%%\n"
    }
   }
  },
  {
   "cell_type": "code",
   "execution_count": 14,
   "outputs": [],
   "source": [
    "x = pd.DataFrame([[2], [4], [6], [8]], columns=['StudyTime'])\n",
    "y= pd.Series([81, 93, 91, 97])"
   ],
   "metadata": {
    "collapsed": false,
    "pycharm": {
     "name": "#%%\n"
    }
   }
  },
  {
   "cell_type": "code",
   "execution_count": 15,
   "outputs": [
    {
     "data": {
      "text/plain": "LinearRegression()"
     },
     "execution_count": 15,
     "metadata": {},
     "output_type": "execute_result"
    }
   ],
   "source": [
    "# 선형회귀 모델 만들기\n",
    "lrmodel = LinearRegression()\n",
    "# 선형회귀 모델 학습시키기\n",
    "lrmodel.fit(x,y)"
   ],
   "metadata": {
    "collapsed": false,
    "pycharm": {
     "name": "#%%\n"
    }
   }
  },
  {
   "cell_type": "code",
   "execution_count": 23,
   "outputs": [
    {
     "name": "stdout",
     "output_type": "stream",
     "text": [
      "a= [2.3], b = 79.0\n"
     ]
    }
   ],
   "source": [
    "# 선형 회귀선\n",
    "# ax+b\n",
    "a= lrmodel.coef_\n",
    "b= lrmodel.intercept_\n",
    "print('a= {}, b = {}' .format(a,b))"
   ],
   "metadata": {
    "collapsed": false,
    "pycharm": {
     "name": "#%%\n"
    }
   }
  }
 ],
 "metadata": {
  "kernelspec": {
   "display_name": "Python 3",
   "language": "python",
   "name": "python3"
  },
  "language_info": {
   "codemirror_mode": {
    "name": "ipython",
    "version": 2
   },
   "file_extension": ".py",
   "mimetype": "text/x-python",
   "name": "python",
   "nbconvert_exporter": "python",
   "pygments_lexer": "ipython2",
   "version": "2.7.6"
  }
 },
 "nbformat": 4,
 "nbformat_minor": 0
}