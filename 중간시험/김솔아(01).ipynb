{
 "cells": [
  {
   "cell_type": "markdown",
   "metadata": {
    "collapsed": false,
    "pycharm": {
     "name": "#%% md\n"
    }
   },
   "source": []
  },
  {
   "cell_type": "code",
   "execution_count": null,
   "metadata": {
    "collapsed": false,
    "pycharm": {
     "name": "#%%\n"
    }
   },
   "outputs": [],
   "source": []
  },
  {
   "cell_type": "code",
   "execution_count": null,
   "metadata": {
    "collapsed": true,
    "pycharm": {
     "name": "#%%\n"
    }
   },
   "outputs": [],
   "source": [
    "#본인의 이름과 학번을 출력하는 코드를 작성하시오.\n",
    "print(\"김솔아\")\n",
    "print(\"202116266\")"
   ]
  },
  {
   "cell_type": "code",
   "execution_count": 4,
   "metadata": {
    "collapsed": false,
    "pycharm": {
     "name": "#%%\n"
    }
   },
   "outputs": [
    {
     "name": "stdout",
     "output_type": "stream",
     "text": [
      "codkn20@gmail.com\n",
      "010-2977-5662\n"
     ]
    }
   ],
   "source": [
    "# myemail 변수를 만들고 자신의 이메일을 저장하시오. myphone 변수를 만들고 010-xxxx-xxxx 휴대폰 번호를 저장하시오.\n",
    "myemail = \"codkan20@gmail.com\"\n",
    "myphone = \"010-2977-5662\"\n",
    "print(myemail)\n",
    "print(myphone)"
   ]
  },
  {
   "cell_type": "code",
   "execution_count": 231,
   "metadata": {
    "collapsed": false,
    "pycharm": {
     "name": "#%%\n"
    }
   },
   "outputs": [
    {
     "name": "stdout",
     "output_type": "stream",
     "text": [
      "['big-data', 'Big-DAta']\n",
      "['bigdata', 'Bigdata', 'Bigdata', 'bigdata']\n",
      "4\n"
     ]
    },
    {
     "data": {
      "text/plain": "['bigdata', 'Bigdata', 'Bigdata', 'bigdata']"
     },
     "execution_count": 231,
     "metadata": {},
     "output_type": "execute_result"
    }
   ],
   "source": [
    "# testdata.csv 파일에 저장된 데이터 중 <제목>에 빅데이터 용어가 몇 번 출현했는지 찾아내는 코드를 작성하시오. Big Data, Big-Data, BIg data, big-data, BIG DATA 등등을 모두 카운트할 수 있어야 한다.\n",
    "import pandas as pd\n",
    "import glob\n",
    "import re\n",
    "from functools import reduce\n",
    "from nltk.tokenize import word_tokenize\n",
    "from nltk.corpus import stopwords\n",
    "from nltk.stem import WordNetLemmatizer\n",
    "from collections import Counter\n",
    "import matplotlib.pyplot as plt\n",
    "from wordcloud import STOPWORDS, WordCloud\n",
    "pd.__version__\n",
    "\n",
    "s = \"bigdata Bigdata Bigdatadalsdf big-data biggigigbigdata Big-DAta\"\n",
    "p = re.compile(\"bigdata\", re.I)\n",
    "q = re.compile(\"big-data\", re.I)\n",
    "\n",
    "string = p.findall(s)\n",
    "string1 = q.findall(s)\n",
    "print(string1)\n",
    "print(string)\n",
    "print(len(string))\n",
    "# import nltk\n",
    "# nltk.download('stopwords')\n",
    "#\n",
    "# stopWords = set(stopwords.words('english'))\n",
    "# lemma = WordNetLemmatizer()\n",
    "#\n",
    "# for title in all_title:\n",
    "#     EnWords = re.sub(r\"[^a-zA-Z]+\", \" \", str(title))\n",
    "#     EnWordsToken = word_tokenize(EnWords.lower())\n",
    "#     EnWordsTokenStop = [w for w in EnWordsToken if w not in\n",
    "#                                    stopWords]\n",
    "#     EnWordsTokenStopLemma = [lemma.lemmatize(w) for w in\n",
    "#                                             EnWordsTokenStop]\n",
    "#     words.append(EnWordsTokenStopLemma\n",
    "#\n",
    "# count = Counter(words2) #딕셔너리객체 생성 => 단어의 빈도수를 count해줌\n",
    "# count\n",
    "string\n"
   ]
  },
  {
   "cell_type": "code",
   "execution_count": 14,
   "metadata": {
    "collapsed": false,
    "pycharm": {
     "name": "#%%\n"
    }
   },
   "outputs": [
    {
     "data": {
      "text/plain": [
       "'codkan20'"
      ]
     },
     "execution_count": 14,
     "metadata": {},
     "output_type": "execute_result"
    }
   ],
   "source": [
    "# myemail에서 ID만을 추출하여 myid 변수로 저장하고 출력하는 코드를 작성하시오\n",
    "myemail = \"codkan20@gmail.com\"\n",
    "myid = myemail[0:8]\n",
    "print(myid)\n",
    "\n"
   ]
  },
  {
   "cell_type": "code",
   "execution_count": 17,
   "metadata": {
    "collapsed": false,
    "pycharm": {
     "name": "#%%\n"
    }
   },
   "outputs": [
    {
     "data": {
      "text/plain": [
       "'5662'"
      ]
     },
     "execution_count": 17,
     "metadata": {},
     "output_type": "execute_result"
    }
   ],
   "source": [
    "# myphone에서 마지막 숫자4개만 추출하여 mynumber 변수로 저장하고 출력하는 코드를 작성하시오.\n",
    "myphone = \"010-2977-5662\"\n",
    "mynumber = myphone[9:13]\n",
    "mynumber\n"
   ]
  },
  {
   "cell_type": "code",
   "execution_count": 57,
   "metadata": {
    "collapsed": false,
    "pycharm": {
     "name": "#%%\n"
    }
   },
   "outputs": [
    {
     "name": "stdout",
     "output_type": "stream",
     "text": [
      "           Mid  Final  Report\n",
      "202116266   90     90      90\n",
      "202116267   99     99      99\n",
      "202116268   89     90      91\n",
      "202116269   88     88      88\n",
      "202116270   85     85      85\n"
     ]
    }
   ],
   "source": [
    "# myclass 데이터 테이블을 pandas의 DataFrame 자료형으로 저장하고 출력하시오. 컬럼은 Mid, Final, Report 이고, index는 본인의 학번, 본인의학번+1, +2, +3, +4 이다. 점수는 자유롭게 정하여 기록한다. 100점 만점으로. 예) 98 88 90\n",
    "c1 = pd.Series([99,99,89,88,85])\n",
    "c2 = pd.Series([90,99,90,88,85])\n",
    "c3 = pd.Series([90,99,91,88,85])\n",
    "i = [202116266, 202116267, 202116268, 202116269, 202116270]\n",
    "myclass = pd.concat([c1,c2,c3], axis =1)\n",
    "df = myclass.set_index(keys=[i], inplace=False, drop=False)\n",
    "df.columns = [\"Mid\",\"Final\", \"Report\"]\n",
    "print(df)\n",
    "\n"
   ]
  },
  {
   "cell_type": "code",
   "execution_count": 86,
   "metadata": {
    "collapsed": false,
    "pycharm": {
     "name": "#%%\n"
    }
   },
   "outputs": [
    {
     "name": "stdout",
     "output_type": "stream",
     "text": [
      "           Mid  Final  Report\n",
      "202116266   90     90      90\n",
      "202116267   99     99      99\n",
      "202116268   89     90      91\n",
      "202116269   88     88      88\n",
      "202116270   85     85      85\n",
      "Mid평균 =>  90.2\n"
     ]
    }
   ],
   "source": [
    "# 5명 학생의 Mid 평균을 구하고 출력하시오.\n",
    "c1 = pd.Series([99,99,89,88,85])\n",
    "c2 = pd.Series([90,99,90,88,85])\n",
    "c3 = pd.Series([90,99,91,88,85])\n",
    "i = [202116266, 202116267, 202116268, 202116269, 202116270]\n",
    "myclass = pd.concat([c1,c2,c3], axis =1)\n",
    "df = myclass.set_index(keys=[i], inplace=False, drop=False)\n",
    "df.columns = [\"Mid\",\"Final\", \"Report\"]\n",
    "print(df)\n",
    "\n",
    "a= str(df.mean(axis=0)[0])\n",
    "print(\"Mid평균 => \", a)\n",
    "\n"
   ]
  },
  {
   "cell_type": "code",
   "execution_count": 126,
   "metadata": {
    "collapsed": false,
    "pycharm": {
     "name": "#%%\n"
    }
   },
   "outputs": [
    {
     "name": "stdout",
     "output_type": "stream",
     "text": [
      "93.0\n"
     ]
    }
   ],
   "source": [
    "# 본인의 Mid, Final, Report 평균을 구하고 출력하시오.\n",
    "c1 = pd.Series([99,99,89,88,85])\n",
    "c2 = pd.Series([90,99,90,88,85])\n",
    "c3 = pd.Series([90,99,91,88,85])\n",
    "i = [202116266, 202116267, 202116268, 202116269, 202116270]\n",
    "myclass = pd.concat([c1,c2,c3], axis =1)\n",
    "df = myclass.set_index(keys=[i], inplace=False, drop=False)\n",
    "df.columns = [\"Mid\",\"Final\", \"Report\"]\n",
    "\n",
    "# df.mean(axis='columns')\n",
    "a = df.iloc[0].mean()\n",
    "print(a)"
   ]
  },
  {
   "cell_type": "code",
   "execution_count": 127,
   "metadata": {
    "collapsed": false,
    "pycharm": {
     "name": "#%%\n"
    }
   },
   "outputs": [
    {
     "name": "stdout",
     "output_type": "stream",
     "text": [
      "           Mid  Final  Report  total\n",
      "202116266   99     90      90   93.6\n",
      "202116267   99     99      99   99.0\n",
      "202116268   89     90      91   89.8\n",
      "202116269   88     88      88   88.0\n",
      "202116270   85     85      85   85.0\n"
     ]
    }
   ],
   "source": [
    "# 각 학생의 총점을 계산하여 Total 컬럼에 저장하고 myclass를 출력한다. 단, Total 컬럼은 추가해야한다. 또한 총점은 Mid 40%, Final 40% Report 20% 비중으로 더한다.\n",
    "total = (df[\"Mid\"]*0.4)+(df[\"Final\"]*0.4)+(df[\"Report\"]*0.2)\n",
    "\n",
    "df[\"total\"]=total\n",
    "\n",
    "print(df)"
   ]
  },
  {
   "cell_type": "code",
   "execution_count": 131,
   "metadata": {
    "collapsed": false,
    "pycharm": {
     "name": "#%%\n"
    }
   },
   "outputs": [
    {
     "name": "stdout",
     "output_type": "stream",
     "text": [
      "           Mid  Final  Report  total grade\n",
      "202116266   99     90      90   93.6     A\n",
      "202116267   99     99      99   99.0     A\n",
      "202116268   89     90      91   89.8     B\n",
      "202116269   88     88      88   88.0     B\n",
      "202116270   85     85      85   85.0     B\n"
     ]
    }
   ],
   "source": [
    "# 각 학생의 등급을 'Grade'로 저장하고 myclass를 출력한다. Grade는 90점 이상 'A', 80점 이상'B', 70점 이상'C', 60점 이상 'D', 60점 미만 'F'로 정한다.\n",
    "\n",
    "# if df[\"total\"] >= 90:\n",
    "#     grade = \"A\"\n",
    "# elif df[\"total\"] >= 80:\n",
    "#     grade = \"B\"\n",
    "# elif df[\"total\"] >= 70:\n",
    "#     grade = \"C\"\n",
    "# else :\n",
    "#     grade = \"F\"\n",
    "\n",
    "df[\"grade\"] = pd.cut(total,bins=[0,70,80,90,100],labels=[\"D\",\"C\",\"B\",\"A\"],right=False)\n",
    "print(df)\n"
   ]
  },
  {
   "cell_type": "code",
   "execution_count": 132,
   "metadata": {
    "collapsed": false,
    "pycharm": {
     "name": "#%%\n"
    }
   },
   "outputs": [
    {
     "name": "stdout",
     "output_type": "stream",
     "text": [
      "           Mid  Final  Report  total\n",
      "202116266   99     90      90   93.6\n",
      "202116267   99     99      99   99.0\n",
      "202116268   89     90      91   89.8\n",
      "202116269   88     88      88   88.0\n",
      "202116270   85     85      85   85.0\n"
     ]
    }
   ],
   "source": [
    "# 앞에서 추가한 'Grade' 컬럼을 myclass 데이터프레임에서 삭제한다. myclass 데이터프레임을 출력한다.\n",
    "\n",
    "df = df.drop(['grade'], axis=1)\n",
    "print(df)\n"
   ]
  },
  {
   "cell_type": "code",
   "execution_count": 152,
   "metadata": {
    "collapsed": false,
    "pycharm": {
     "name": "#%%\n"
    }
   },
   "outputs": [
    {
     "data": {
      "text/plain": [
       "array([[99. , 90. , 90. , 93.6],\n",
       "       [99. , 99. , 99. , 99. ],\n",
       "       [89. , 90. , 91. , 89.8],\n",
       "       [88. , 88. , 88. , 88. ],\n",
       "       [85. , 85. , 85. , 85. ]])"
      ]
     },
     "execution_count": 152,
     "metadata": {},
     "output_type": "execute_result"
    }
   ],
   "source": [
    "# myclass 데이터프레임과 동일한 값을 갖는 넘파이 배열을 생성하고 출력한다. newclass 이름으로 정한다.\n",
    "import numpy as np\n",
    "newclass = df.to_numpy()\n",
    "# newclass = np.array(df.index.values)\n",
    "newclass\n"
   ]
  },
  {
   "cell_type": "code",
   "execution_count": 153,
   "metadata": {
    "collapsed": false,
    "pycharm": {
     "name": "#%%\n"
    }
   },
   "outputs": [
    {
     "name": "stdout",
     "output_type": "stream",
     "text": [
      "[[99.  90.  90.  93.6]\n",
      " [99.  99.  99.  99. ]\n",
      " [89.  90.  91.  89.8]\n",
      " [88.  88.  88.  88. ]\n",
      " [85.  85.  85.  85. ]]\n"
     ]
    },
    {
     "data": {
      "text/plain": [
       "array([[99., 90., 90.],\n",
       "       [99., 99., 99.],\n",
       "       [89., 90., 91.],\n",
       "       [88., 88., 88.],\n",
       "       [85., 85., 85.]])"
      ]
     },
     "execution_count": 153,
     "metadata": {},
     "output_type": "execute_result"
    }
   ],
   "source": [
    "# newclass 에서 총점 값을 삭제하고 newclass를 출력하여 결과를 확인한다. 다음 코드를 이용한다. np.delete(newclass, 3, axis=1)\n",
    "print(newclass)\n",
    "newclass = np.delete(newclass,3, axis=1)\n",
    "print(newclass)"
   ]
  },
  {
   "cell_type": "code",
   "execution_count": 173,
   "metadata": {
    "collapsed": false,
    "pycharm": {
     "name": "#%%\n"
    }
   },
   "outputs": [
    {
     "data": {
      "text/plain": [
       "array([[ 67,  64,  47],\n",
       "       [100,  85,  59],\n",
       "       [ 40,  58,  49],\n",
       "       [ 78,  68,  49],\n",
       "       [ 88,  63,  93]])"
      ]
     },
     "execution_count": 173,
     "metadata": {},
     "output_type": "execute_result"
    }
   ],
   "source": [
    "# 새로운 5x3 넘파이 배열(이름은 hahaha)을 생성하고 출력하시오. 값은 랜덤함수를 이용하여 40<= ~ <=100 범위에서 정수값으로 입력한다.\n",
    "\n",
    "hahaha = np.random.randint(40,101,size=(5,3))\n",
    "hahaha"
   ]
  },
  {
   "cell_type": "code",
   "execution_count": 189,
   "metadata": {
    "collapsed": false,
    "pycharm": {
     "name": "#%%\n"
    }
   },
   "outputs": [
    {
     "data": {
      "text/plain": [
       "array([[ 67.,  64.,  47.],\n",
       "       [100.,  85.,  59.],\n",
       "       [ 40.,  58.,  49.],\n",
       "       [ 78.,  68.,  49.],\n",
       "       [ 88.,  63.,  93.],\n",
       "       [ 99.,  90.,  90.],\n",
       "       [ 99.,  99.,  99.],\n",
       "       [ 89.,  90.,  91.],\n",
       "       [ 88.,  88.,  88.],\n",
       "       [ 85.,  85.,  85.]])"
      ]
     },
     "execution_count": 189,
     "metadata": {},
     "output_type": "execute_result"
    }
   ],
   "source": [
    "# hahaha와 newclass 를 하나의 배열( hanew )로 통합하고 hanew를 출력하시오. hahaha 데이터값이 0~4에 위치하고, newclass가 5~9에 위치한다. hanew는 10x3 배열이어야 한다.\n",
    "hanew = np.concatenate((hahaha, newclass),axis=0)\n",
    "hanew"
   ]
  },
  {
   "cell_type": "code",
   "execution_count": 192,
   "metadata": {
    "collapsed": false,
    "pycharm": {
     "name": "#%%\n"
    }
   },
   "outputs": [
    {
     "data": {
      "text/plain": [
       "array([[ 4.288, 10.24 ,  1.88 ],\n",
       "       [ 6.4  , 13.6  ,  2.36 ],\n",
       "       [ 2.56 ,  9.28 ,  1.96 ],\n",
       "       [ 4.992, 10.88 ,  1.96 ],\n",
       "       [ 5.632, 10.08 ,  3.72 ],\n",
       "       [ 6.336, 14.4  ,  3.6  ],\n",
       "       [ 6.336, 15.84 ,  3.96 ],\n",
       "       [ 5.696, 14.4  ,  3.64 ],\n",
       "       [ 5.632, 14.08 ,  3.52 ],\n",
       "       [ 5.44 , 13.6  ,  3.4  ]])"
      ]
     },
     "execution_count": 192,
     "metadata": {},
     "output_type": "execute_result"
    }
   ],
   "source": [
    "# 브로드캐스팅 을 이용하여 hanew에 저장된 값을 환산한 값으로 수정/저장한 후 출력하시오. 0번 열(컬럼) 중간고사 점수는 40%, 1번 열(컬럼) 기말고사 점수는 40%, 2번 열(컬럼) 레포트 점수는 20% 비율로 환산하여 계산된 값으로 수정/저장한다.\n",
    "\n",
    "hanew[:,0] = hanew[:,0] *0.4\n",
    "hanew[:,1] = hanew[:,1] *0.4\n",
    "hanew[:,2] = hanew[:,2] *0.2\n",
    "hanew"
   ]
  },
  {
   "cell_type": "code",
   "execution_count": 205,
   "metadata": {
    "collapsed": false,
    "pycharm": {
     "name": "#%%\n"
    }
   },
   "outputs": [
    {
     "data": {
      "text/plain": [
       "26.136000000000003"
      ]
     },
     "execution_count": 205,
     "metadata": {},
     "output_type": "execute_result"
    }
   ],
   "source": [
    "# hanew 배열을 이용하여 질문에 답을 찾는 코드를 작성하시오. (출력문 형식은 상관없이, 답을 구하는 코드만 작성하면 충분합니다.) 10명의 학생 중 가장 높은 총점은 몇 점인가?\n",
    "\n",
    "hanew.sum(axis=1).max()\n"
   ]
  },
  {
   "cell_type": "markdown",
   "metadata": {
    "collapsed": false,
    "pycharm": {
     "name": "#%% md\n"
    }
   },
   "source": []
  },
  {
   "cell_type": "code",
   "execution_count": 206,
   "metadata": {
    "collapsed": false,
    "pycharm": {
     "name": "#%%\n"
    }
   },
   "outputs": [
    {
     "data": {
      "text/plain": [
       "20.971200000000003"
      ]
     },
     "execution_count": 206,
     "metadata": {},
     "output_type": "execute_result"
    }
   ],
   "source": [
    "# hanew 배열을 이용하여 질문에 답을 찾는 코드를 작성하시오. (출력문 형식은 상관없이, 답을 구하는 코드만 작성하면 충분합니다.) 10명의 총점 평균은 몇 점인가?\n",
    "hanew.sum(axis=1).mean()"
   ]
  },
  {
   "cell_type": "code",
   "execution_count": 214,
   "metadata": {
    "collapsed": false,
    "pycharm": {
     "name": "#%%\n"
    }
   },
   "outputs": [
    {
     "data": {
      "text/plain": [
       "6"
      ]
     },
     "execution_count": 214,
     "metadata": {},
     "output_type": "execute_result"
    }
   ],
   "source": [
    "# hanew 배열을 이용하여 질문에 답을 찾는 코드를 작성하시오. (출력문 형식은 상관없이, 답을 구하는 코드만 작성하면 충분합니다.) 총점이 평균보다 높은 학생은 몇 명인가?\n",
    "a= hanew.sum(axis=1) > hanew.sum(axis=1).mean()\n",
    "a.sum()"
   ]
  },
  {
   "cell_type": "code",
   "execution_count": 224,
   "metadata": {
    "collapsed": false,
    "pycharm": {
     "name": "#%%\n"
    }
   },
   "outputs": [
    {
     "name": "stdout",
     "output_type": "stream",
     "text": [
      "           Mid  Final  Report\n",
      "202116266   99     90      90\n",
      "202116267   99     99      99\n",
      "202116268   89     90      91\n",
      "202116269   88     88      88\n",
      "202116270   85     85      85\n"
     ]
    },
    {
     "ename": "TypeError",
     "evalue": "Cannot index by location index with a non-integer key",
     "output_type": "error",
     "traceback": [
      "\u001B[1;31m---------------------------------------------------------------------------\u001B[0m",
      "\u001B[1;31mTypeError\u001B[0m                                 Traceback (most recent call last)",
      "Input \u001B[1;32mIn [224]\u001B[0m, in \u001B[0;36m<cell line: 11>\u001B[1;34m()\u001B[0m\n\u001B[0;32m      8\u001B[0m \u001B[38;5;28mprint\u001B[39m(df)\n\u001B[0;32m      9\u001B[0m \u001B[38;5;28;01mimport\u001B[39;00m \u001B[38;5;21;01mmatplotlib\u001B[39;00m\u001B[38;5;21;01m.\u001B[39;00m\u001B[38;5;21;01mpyplot\u001B[39;00m \u001B[38;5;28;01mas\u001B[39;00m \u001B[38;5;21;01mplt\u001B[39;00m\n\u001B[1;32m---> 11\u001B[0m plt\u001B[38;5;241m.\u001B[39mbar(\u001B[43mdf\u001B[49m\u001B[38;5;241;43m.\u001B[39;49m\u001B[43miloc\u001B[49m\u001B[43m[\u001B[49m\u001B[38;5;124;43m\"\u001B[39;49m\u001B[38;5;124;43m202116266\u001B[39;49m\u001B[38;5;124;43m\"\u001B[39;49m\u001B[43m]\u001B[49m, df[\u001B[38;5;241m0\u001B[39m], df[\u001B[38;5;241m1\u001B[39m], df[\u001B[38;5;241m2\u001B[39m])\n\u001B[0;32m     12\u001B[0m plt\u001B[38;5;241m.\u001B[39mshow()\n",
      "File \u001B[1;32m~\\anaconda3\\lib\\site-packages\\pandas\\core\\indexing.py:967\u001B[0m, in \u001B[0;36m_LocationIndexer.__getitem__\u001B[1;34m(self, key)\u001B[0m\n\u001B[0;32m    964\u001B[0m axis \u001B[38;5;241m=\u001B[39m \u001B[38;5;28mself\u001B[39m\u001B[38;5;241m.\u001B[39maxis \u001B[38;5;129;01mor\u001B[39;00m \u001B[38;5;241m0\u001B[39m\n\u001B[0;32m    966\u001B[0m maybe_callable \u001B[38;5;241m=\u001B[39m com\u001B[38;5;241m.\u001B[39mapply_if_callable(key, \u001B[38;5;28mself\u001B[39m\u001B[38;5;241m.\u001B[39mobj)\n\u001B[1;32m--> 967\u001B[0m \u001B[38;5;28;01mreturn\u001B[39;00m \u001B[38;5;28;43mself\u001B[39;49m\u001B[38;5;241;43m.\u001B[39;49m\u001B[43m_getitem_axis\u001B[49m\u001B[43m(\u001B[49m\u001B[43mmaybe_callable\u001B[49m\u001B[43m,\u001B[49m\u001B[43m \u001B[49m\u001B[43maxis\u001B[49m\u001B[38;5;241;43m=\u001B[39;49m\u001B[43maxis\u001B[49m\u001B[43m)\u001B[49m\n",
      "File \u001B[1;32m~\\anaconda3\\lib\\site-packages\\pandas\\core\\indexing.py:1517\u001B[0m, in \u001B[0;36m_iLocIndexer._getitem_axis\u001B[1;34m(self, key, axis)\u001B[0m\n\u001B[0;32m   1515\u001B[0m key \u001B[38;5;241m=\u001B[39m item_from_zerodim(key)\n\u001B[0;32m   1516\u001B[0m \u001B[38;5;28;01mif\u001B[39;00m \u001B[38;5;129;01mnot\u001B[39;00m is_integer(key):\n\u001B[1;32m-> 1517\u001B[0m     \u001B[38;5;28;01mraise\u001B[39;00m \u001B[38;5;167;01mTypeError\u001B[39;00m(\u001B[38;5;124m\"\u001B[39m\u001B[38;5;124mCannot index by location index with a non-integer key\u001B[39m\u001B[38;5;124m\"\u001B[39m)\n\u001B[0;32m   1519\u001B[0m \u001B[38;5;66;03m# validate the location\u001B[39;00m\n\u001B[0;32m   1520\u001B[0m \u001B[38;5;28mself\u001B[39m\u001B[38;5;241m.\u001B[39m_validate_integer(key, axis)\n",
      "\u001B[1;31mTypeError\u001B[0m: Cannot index by location index with a non-integer key"
     ]
    }
   ],
   "source": [
    "c1 = pd.Series([99,99,89,88,85])\n",
    "c2 = pd.Series([90,99,90,88,85])\n",
    "c3 = pd.Series([90,99,91,88,85])\n",
    "i = [202116266, 202116267, 202116268, 202116269, 202116270]\n",
    "myclass = pd.concat([c1,c2,c3], axis =1)\n",
    "df = myclass.set_index(keys=[i], inplace=False, drop=False)\n",
    "df.columns = [\"Mid\",\"Final\", \"Report\"]\n",
    "print(df)\n",
    "import matplotlib.pyplot as plt\n",
    "\n",
    "plt.bar(df.iloc[\"202116266\"], df[0], df[1], df[2])\n",
    "plt.show()"
   ]
  }
 ],
 "metadata": {
  "kernelspec": {
   "display_name": "Python 3",
   "language": "python",
   "name": "python3"
  },
  "language_info": {
   "codemirror_mode": {
    "name": "ipython",
    "version": 2
   },
   "file_extension": ".py",
   "mimetype": "text/x-python",
   "name": "python",
   "nbconvert_exporter": "python",
   "pygments_lexer": "ipython2",
   "version": "2.7.6"
  }
 },
 "nbformat": 4,
 "nbformat_minor": 0
}