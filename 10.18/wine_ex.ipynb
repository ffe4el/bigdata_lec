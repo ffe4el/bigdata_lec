{
 "cells": [
  {
   "cell_type": "markdown",
   "metadata": {
    "pycharm": {
     "name": "#%% md\n"
    }
   },
   "source": [
    "# 와인 속성 분석하여 품질 등급 예측..\n",
    "## 기술 통계, 회귀 분석, t-검정, 히스토그램\n",
    "\n",
    "# 목표 : 와인의 속성을 분석한 뒤 레드와인, 화이트 와인 구별하는 것\n",
    "휘발성 산도 : 레드와인 > 화이트와인\n",
    "총 이산화황 분포 : 화이트와인 > 레드와인"
   ]
  },
  {
   "cell_type": "code",
   "execution_count": 3,
   "metadata": {
    "pycharm": {
     "name": "#%%\n"
    }
   },
   "outputs": [],
   "source": [
    "import pandas as pd\n",
    "import numpy as np\n",
    "import matplotlib as plt"
   ]
  },
  {
   "cell_type": "code",
   "execution_count": 2,
   "metadata": {
    "pycharm": {
     "name": "#%%\n"
    }
   },
   "outputs": [],
   "source": [
    "#pandas의 read_csv() 함수를 사용해 CSV 파일을 읽어옴 \n",
    "# 이때 CSV 파일 데이터의 열 구분자를 세미콜론으로 지정하기 위해 sep 매개변수 값을 ‘;’으로 지정\n",
    "# pandas로 읽은 CSV 데이터는 테이블 형태의 DataFrame 객체(red_df, white_df)에 있음\n",
    "\n",
    "r_d = pd.read_csv('winequality-red.csv', sep=';')\n",
    "w_d = pd.read_csv('winequality-white.csv', sep=';')"
   ]
  },
  {
   "cell_type": "markdown",
   "metadata": {
    "pycharm": {
     "name": "#%% md\n"
    }
   },
   "source": [
    "불필요한 속성 제거 \n",
    "drop()\n",
    "\n",
    "결측치 처리\n",
    "isnull().sum()\n",
    "\n",
    "이상치(outlier) 제거\n",
    "Boxplot\n",
    "박스 플롯을 이용해서 이상치를 걸러내서 제거한다~~"
   ]
  },
  {
   "cell_type": "code",
   "execution_count": 4,
   "metadata": {
    "pycharm": {
     "name": "#%%\n"
    }
   },
   "outputs": [
    {
     "ename": "AttributeError",
     "evalue": "module 'matplotlib' has no attribute 'boxplot'",
     "output_type": "error",
     "traceback": [
      "\u001B[1;31m---------------------------------------------------------------------------\u001B[0m",
      "\u001B[1;31mAttributeError\u001B[0m                            Traceback (most recent call last)",
      "Input \u001B[1;32mIn [4]\u001B[0m, in \u001B[0;36m<cell line: 14>\u001B[1;34m()\u001B[0m\n\u001B[0;32m     11\u001B[0m data_removed_outlier \u001B[38;5;241m=\u001B[39m r_d[(r_d\u001B[38;5;241m>\u001B[39mlif) \u001B[38;5;241m&\u001B[39m (r_d\u001B[38;5;241m<\u001B[39mhif)]  \n\u001B[0;32m     13\u001B[0m \u001B[38;5;66;03m# 박스플롯 그래프 그리기\u001B[39;00m\n\u001B[1;32m---> 14\u001B[0m \u001B[43mplt\u001B[49m\u001B[38;5;241;43m.\u001B[39;49m\u001B[43mboxplot\u001B[49m(  )\n\u001B[0;32m     15\u001B[0m plt\u001B[38;5;241m.\u001B[39mtitle( )\n\u001B[0;32m     16\u001B[0m plt\u001B[38;5;241m.\u001B[39mshow()\n",
      "File \u001B[1;32m~\\anaconda3\\lib\\site-packages\\matplotlib\\_api\\__init__.py:222\u001B[0m, in \u001B[0;36mcaching_module_getattr.<locals>.__getattr__\u001B[1;34m(name)\u001B[0m\n\u001B[0;32m    220\u001B[0m \u001B[38;5;28;01mif\u001B[39;00m name \u001B[38;5;129;01min\u001B[39;00m props:\n\u001B[0;32m    221\u001B[0m     \u001B[38;5;28;01mreturn\u001B[39;00m props[name]\u001B[38;5;241m.\u001B[39m\u001B[38;5;21m__get__\u001B[39m(instance)\n\u001B[1;32m--> 222\u001B[0m \u001B[38;5;28;01mraise\u001B[39;00m \u001B[38;5;167;01mAttributeError\u001B[39;00m(\n\u001B[0;32m    223\u001B[0m     \u001B[38;5;124mf\u001B[39m\u001B[38;5;124m\"\u001B[39m\u001B[38;5;124mmodule \u001B[39m\u001B[38;5;132;01m{\u001B[39;00m\u001B[38;5;28mcls\u001B[39m\u001B[38;5;241m.\u001B[39m\u001B[38;5;18m__module__\u001B[39m\u001B[38;5;132;01m!r}\u001B[39;00m\u001B[38;5;124m has no attribute \u001B[39m\u001B[38;5;132;01m{\u001B[39;00mname\u001B[38;5;132;01m!r}\u001B[39;00m\u001B[38;5;124m\"\u001B[39m)\n",
      "\u001B[1;31mAttributeError\u001B[0m: module 'matplotlib' has no attribute 'boxplot'"
     ]
    }
   ],
   "source": [
    "# 박스 플롯을 이용해서 이상치 제거하자\n",
    "\n",
    "q1 = r_d.quantile(0.25) \n",
    "q3 = r_d.quantile(0.75)\n",
    "iqr = q3-q1\n",
    "\n",
    "lif = q1 - (iqr*1.5)    # lower inner fence\n",
    "hif = q3 + (iqr*1.5)    # higher inner fence\n",
    "\n",
    "# fence 안에 있는 데이터만 남긴다.\n",
    "data_removed_outlier = r_d[(r_d>lif) & (r_d<hif)]  \n",
    "\n",
    "# 박스플롯 그래프 그리기\n",
    "plt.boxplot(  )\n",
    "plt.title( )\n",
    "plt.show()"
   ]
  },
  {
   "cell_type": "code",
   "execution_count": null,
   "metadata": {
    "pycharm": {
     "name": "#%%\n"
    }
   },
   "outputs": [],
   "source": [
    "# 이상치로 판단된 데이터의 index 값을 리턴\n",
    "def get_outlier(df, col, weight=1.5) : \n",
    "  q1 = np.percentile(df[col].values, 25) \n",
    "  q3 = np.percentile(df[col].values, 75) \n",
    "  IQR = q3 - q1 \n",
    "  low_fence = q1 - (weight * IQR)\n",
    "  high_fence = q3 + (weight * IQR) \t\t\n",
    "\n",
    "  out_index = df[col][(df[col]<low_fence)|(df[col]<=high_fence))].index\n",
    "\n",
    "  return out_index\n",
    "\n",
    "\n"
   ]
  }
 ],
 "metadata": {
  "kernelspec": {
   "display_name": "Python 3.9.7 ('base')",
   "language": "python",
   "name": "python3"
  },
  "language_info": {
   "name": "python",
   "version": "3.9.7"
  },
  "orig_nbformat": 4,
  "vscode": {
   "interpreter": {
    "hash": "d1b453b87840e9c08cab7728d02e20caedc1c985ce56a033dc48b15b9411b6a9"
   }
  }
 },
 "nbformat": 4,
 "nbformat_minor": 2
}